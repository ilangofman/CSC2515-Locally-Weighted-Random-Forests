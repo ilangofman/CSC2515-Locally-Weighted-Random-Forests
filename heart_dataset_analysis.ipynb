{
 "cells": [
  {
   "cell_type": "code",
   "execution_count": 36,
   "metadata": {},
   "outputs": [],
   "source": [
    "import numpy as np\n",
    "import pandas as pd\n",
    "import statistics\n",
    "import matplotlib.pyplot as plt\n",
    "\n",
    "\n",
    "from sklearn.model_selection import GridSearchCV\n",
    "from sklearn.ensemble import RandomForestClassifier\n",
    "from sklearn.metrics import classification_report\n",
    "from sklearn.utils import resample\n",
    "from sklearn.tree import DecisionTreeClassifier\n",
    "from sklearn.model_selection import KFold\n",
    "from sklearn.metrics import accuracy_score\n",
    "\n",
    "from load_data import load_heart_data, load_tweet_data"
   ]
  },
  {
   "cell_type": "code",
   "execution_count": 21,
   "metadata": {},
   "outputs": [],
   "source": [
    "train_X, test_X, train_y, test_y = load_heart_data(\"heart_dataset.csv\")"
   ]
  },
  {
   "cell_type": "code",
   "execution_count": 22,
   "metadata": {},
   "outputs": [
    {
     "name": "stdout",
     "output_type": "stream",
     "text": [
      "Shape of Train X:  (820, 13) , Type:  <class 'numpy.ndarray'>\n",
      "Shape of Test X:  (205, 13) , Type:  <class 'numpy.ndarray'>\n",
      "Shape of Train y:  (820,) , Type:  <class 'numpy.ndarray'>\n",
      "Shape of Test y:  (205,) , Type:  <class 'numpy.ndarray'>\n"
     ]
    }
   ],
   "source": [
    "print(\"Shape of Train X: \", train_X.shape, \", Type: \", type(train_X))\n",
    "print(\"Shape of Test X: \", test_X.shape, \", Type: \", type(test_X))\n",
    "print(\"Shape of Train y: \", train_y.shape, \", Type: \", type(train_y))\n",
    "print(\"Shape of Test y: \", test_y.shape, \", Type: \", type(test_y))"
   ]
  },
  {
   "cell_type": "markdown",
   "metadata": {},
   "source": [
    "# Baseline Performance\n",
    "\n",
    "Before testing out the new method explored in the project regarding the locally weighted trees, we will first test out the existing method we aim to improve upon, the random forest model."
   ]
  },
  {
   "cell_type": "code",
   "execution_count": 4,
   "metadata": {},
   "outputs": [],
   "source": [
    "# To find the best random forrest model, we need to tune the hyperparameters. Will do \n",
    "# so by performing a grid search \n",
    "\n",
    "grid_search_parameters = {'max_depth':[5, 10, 15, 30, 50, None], \n",
    "                          'n_estimators':[10, 25, 50, 100, 250, 500, 1000], \n",
    "                          'max_samples': [0.3, 0.5, 0.7, 0.8, 0.9, 1]}\n"
   ]
  },
  {
   "cell_type": "code",
   "execution_count": null,
   "metadata": {},
   "outputs": [],
   "source": [
    "random_forest_classifier = RandomForestClassifier(random_state=0)\n",
    "random_forest_classifier_GS = GridSearchCV(random_forest_classifier, grid_search_parameters, cv=10, verbose=0)\n",
    "random_forest_classifier_GS.fit(train_X, train_y)\n"
   ]
  },
  {
   "cell_type": "code",
   "execution_count": null,
   "metadata": {},
   "outputs": [
    {
     "name": "stdout",
     "output_type": "stream",
     "text": [
      "Best Parameters:  {'max_depth': 10, 'max_samples': 0.9, 'n_estimators': 50}\n",
      "Best Score:  0.9902439024390244\n"
     ]
    }
   ],
   "source": [
    "print(\"Best Parameters: \", random_forest_classifier_GS.best_params_)\n",
    "print(\"Best Score: \", random_forest_classifier_GS.best_score_)"
   ]
  },
  {
   "cell_type": "code",
   "execution_count": null,
   "metadata": {},
   "outputs": [
    {
     "name": "stdout",
     "output_type": "stream",
     "text": [
      "              precision    recall  f1-score   support\n",
      "\n",
      "           0    1.00000   0.97222   0.98592       108\n",
      "           1    0.97000   1.00000   0.98477        97\n",
      "\n",
      "    accuracy                        0.98537       205\n",
      "   macro avg    0.98500   0.98611   0.98534       205\n",
      "weighted avg    0.98580   0.98537   0.98537       205\n",
      "\n"
     ]
    }
   ],
   "source": [
    "# Train the model with the best parameters:\n",
    "random_forest_classifier = RandomForestClassifier(random_state=0, n_estimators=50, max_samples=0.9, max_depth=10)\n",
    "random_forest_classifier.fit(train_X, train_y)\n",
    "predictions = random_forest_classifier.predict(test_X)\n",
    "\n",
    "print(classification_report(test_y, predictions, digits=5))"
   ]
  },
  {
   "cell_type": "markdown",
   "metadata": {},
   "source": [
    "# Locally Weighted Random Forest"
   ]
  },
  {
   "cell_type": "code",
   "execution_count": 23,
   "metadata": {},
   "outputs": [],
   "source": [
    "from locallyWeightedRandomForest import LocallyWeightedRandomForest\n",
    "from sklearn.utils.estimator_checks import check_estimator"
   ]
  },
  {
   "cell_type": "markdown",
   "metadata": {},
   "source": [
    "# Distance functions\n",
    "\n",
    "TODO move to a separate file, here for easier testing (for now) "
   ]
  },
  {
   "cell_type": "code",
   "execution_count": 35,
   "metadata": {},
   "outputs": [],
   "source": [
    "def euclidean_distance(x_1:np.ndarray, x_2:np.ndarray) -> float:\n",
    "    return np.linalg.norm(x_1 - x_2)\n",
    "\n",
    "def manhattan_distance(x_1:np.ndarray, x_2:np.ndarray) -> float:\n",
    "    return np.linalg.norm(x_1 - x_2, ord=1)\n",
    "\n",
    "def mean_distance(point:np.ndarray, dataset:np.ndarray, distance_function:callable = lambda a,b: 1)-> float:\n",
    "    distance_sum = 0\n",
    "    for p in dataset:\n",
    "        distance_sum += distance_function(point, p)\n",
    "    return distance_sum/len(dataset)\n",
    "\n",
    "def distance_to_dataset_mean(point:np.ndarray, dataset:np.ndarray, distance_function:callable = lambda a,b: 1)-> float:\n",
    "    mean_dataset_point = np.mean(dataset, axis=0)\n",
    "    return distance_function(point, mean_dataset_point)\n",
    "\n",
    "def median_distance(point:np.ndarray, dataset:np.ndarray, distance_function:callable = lambda a,b: 1)-> float:\n",
    "    distances = []\n",
    "    for p in dataset:\n",
    "        distances.append(distance_function(point, p))\n",
    "    return statistics.median(distances)\n",
    "\n",
    "def nearest_k_distance_mean(k:int) -> callable:\n",
    "    def _smallest_k_distances_mean(point:np.ndarray, dataset:np.ndarray, distance_function:callable = lambda a,b: 1) -> float:\n",
    "        distances = np.zeros(len(dataset))\n",
    "        for i in range(len(dataset)):\n",
    "            distances[i] = distance_function(point, dataset[i])\n",
    "        smallest_k_distaces = np.sort(distances)[:k]\n",
    "        return np.mean(smallest_k_distaces, axis=0)\n",
    "\n",
    "    return _smallest_k_distances_mean"
   ]
  },
  {
   "cell_type": "code",
   "execution_count": 25,
   "metadata": {},
   "outputs": [],
   "source": [
    "# lwrf = LocallyWeightedRandomForest(n_estimators=50, max_samples=0.9, max_depth=10)\n",
    "lwrf = LocallyWeightedRandomForest(n_estimators=50, max_samples=0.9, max_depth=10)\n",
    "#TODO: lwrf class should allow execution of predict independent of execution of fit\n",
    "#check_estimator(lwrf)"
   ]
  },
  {
   "cell_type": "code",
   "execution_count": 26,
   "metadata": {},
   "outputs": [],
   "source": [
    "lwrf.fit(train_X, train_y)"
   ]
  },
  {
   "cell_type": "code",
   "execution_count": 27,
   "metadata": {},
   "outputs": [
    {
     "name": "stdout",
     "output_type": "stream",
     "text": [
      "              precision    recall  f1-score   support\n",
      "\n",
      "           0    1.00000   0.97222   0.98592       108\n",
      "           1    0.97000   1.00000   0.98477        97\n",
      "\n",
      "    accuracy                        0.98537       205\n",
      "   macro avg    0.98500   0.98611   0.98534       205\n",
      "weighted avg    0.98580   0.98537   0.98537       205\n",
      "\n"
     ]
    }
   ],
   "source": [
    "pred = lwrf.predict(test_X, temperature=1)\n",
    "print(classification_report(test_y, pred, digits=5))"
   ]
  },
  {
   "cell_type": "code",
   "execution_count": 28,
   "metadata": {},
   "outputs": [
    {
     "name": "stdout",
     "output_type": "stream",
     "text": [
      "              precision    recall  f1-score   support\n",
      "\n",
      "           0    1.00000   0.97222   0.98592       108\n",
      "           1    0.97000   1.00000   0.98477        97\n",
      "\n",
      "    accuracy                        0.98537       205\n",
      "   macro avg    0.98500   0.98611   0.98534       205\n",
      "weighted avg    0.98580   0.98537   0.98537       205\n",
      "\n"
     ]
    }
   ],
   "source": [
    "pred = lwrf.predict(test_X, temperature=0.15, distance_function=euclidean_distance, distance_aggregation_function=mean_distance)\n",
    "print(classification_report(test_y, pred, digits=5))"
   ]
  },
  {
   "cell_type": "code",
   "execution_count": 29,
   "metadata": {},
   "outputs": [],
   "source": [
    "#TODO move to separate file \n",
    "\n",
    "def cross_validation(X, y, model, temperature, distance_function, distance_agg_func, folds=10, verbose=False):\n",
    "    k_folds = KFold(n_splits=folds)\n",
    "    validation_scores = []\n",
    "\n",
    "    for train_index, val_index in k_folds.split(X):\n",
    "        train_X, val_X = X[train_index], X[val_index]\n",
    "        train_y, val_y = y[train_index], y[val_index]\n",
    "\n",
    "\n",
    "        model.fit(train_X, train_y)\n",
    "        predictions = model.predict(val_X, temperature, distance_function, distance_agg_func)\n",
    "\n",
    "        accuracy = accuracy_score(val_y, predictions)\n",
    "\n",
    "        if verbose:\n",
    "            print(\"Fold Accuracy: \", accuracy)\n",
    "\n",
    "        validation_scores.append(accuracy)\n",
    "\n",
    "    return np.mean(np.array(validation_scores))"
   ]
  },
  {
   "cell_type": "code",
   "execution_count": 65,
   "metadata": {},
   "outputs": [],
   "source": [
    "\n",
    "def cross_validation_temperature_range(X, y, model, temperature_list, distance_function, distance_agg_func, folds=10, verbose=False):\n",
    "    k_folds = KFold(n_splits=folds)\n",
    "    validation_scores = []\n",
    "\n",
    "    for train_index, val_index in k_folds.split(X):\n",
    "        train_X, val_X = X[train_index], X[val_index]\n",
    "        train_y, val_y = y[train_index], y[val_index]\n",
    "\n",
    "\n",
    "        model.fit(train_X, train_y)\n",
    "\n",
    "        temperate_accuracy = []\n",
    "\n",
    "        for temperature in temperature_list:\n",
    "\n",
    "            predictions = model.predict(val_X, temperature, distance_function, distance_agg_func)\n",
    "            accuracy = accuracy_score(val_y, predictions)\n",
    "            temperate_accuracy.append(accuracy)\n",
    "\n",
    "        if verbose:\n",
    "            print(\"Fold Accuracy: \")\n",
    "            for i, temp in enumerate(temperature_list):\n",
    "                print(\"Temp: \", temp, \", fold acc: \", temperate_accuracy[i])\n",
    "\n",
    "        validation_scores.append(temperate_accuracy)\n",
    "\n",
    "    return np.mean(np.array(validation_scores), axis=0)"
   ]
  },
  {
   "cell_type": "code",
   "execution_count": 62,
   "metadata": {},
   "outputs": [
    {
     "data": {
      "text/plain": [
       "array([ 1.5, 15. ,  0.5])"
      ]
     },
     "execution_count": 62,
     "metadata": {},
     "output_type": "execute_result"
    }
   ],
   "source": [
    "x = [[1,10,2], [2,20,-1]]\n",
    "np.mean(np.array(x), axis=0)"
   ]
  },
  {
   "cell_type": "markdown",
   "metadata": {},
   "source": [
    "# Experiments"
   ]
  },
  {
   "cell_type": "markdown",
   "metadata": {},
   "source": [
    "### Comparing sample sizes vs performance \n",
    "\n",
    "For this graph, we will keep the number of estimators constant at 300. "
   ]
  },
  {
   "cell_type": "code",
   "execution_count": 82,
   "metadata": {},
   "outputs": [
    {
     "data": {
      "text/plain": [
       "array([[ 0.94463856,  0.66150409, -0.91575542, -0.09205458,  1.6289381 ,\n",
       "         2.38733039, -1.00404855, -0.74427134,  1.40392824,  0.62026416,\n",
       "         0.99543334,  2.17981673,  1.08985168],\n",
       "       [-0.26843658,  0.66150409,  0.05593123,  0.13641017, -0.87264541,\n",
       "        -0.41887792,  0.89125488,  0.38643389, -0.71228712, -0.23117653,\n",
       "         0.99543334,  0.23862459, -0.52212231],\n",
       "       [ 0.94463856,  0.66150409, -0.91575542, -0.09205458,  1.6289381 ,\n",
       "         2.38733039, -1.00404855, -0.74427134,  1.40392824,  0.62026416,\n",
       "         0.99543334,  2.17981673,  1.08985168]])"
      ]
     },
     "execution_count": 82,
     "metadata": {},
     "output_type": "execute_result"
    }
   ],
   "source": [
    "train_X[[1,2,1]]"
   ]
  },
  {
   "cell_type": "code",
   "execution_count": 37,
   "metadata": {},
   "outputs": [],
   "source": [
    "euc_mean_acc = []\n",
    "euc_median_acc = []\n",
    "euc_dataset_mean = []\n",
    "k_5_euc_mean_acc = []\n",
    "k_10_euc_mean_acc = []\n",
    "k_20_euc_mean_acc = []\n",
    "k_50_euc_mean_acc = []\n",
    "manhattan_mean_acc = []\n"
   ]
  },
  {
   "cell_type": "code",
   "execution_count": 56,
   "metadata": {},
   "outputs": [],
   "source": [
    "k_1_euc_mean_acc = []\n"
   ]
  },
  {
   "cell_type": "code",
   "execution_count": null,
   "metadata": {},
   "outputs": [],
   "source": [
    "# For the random forest, we will try various values for the portion of the population we \n",
    "# sample the data from \n",
    "sample_sizes = np.arange(0.1, 1.01, 0.1)\n",
    "\n",
    "for size in sample_sizes:\n",
    "    lwrf = LocallyWeightedRandomForest(n_estimators=300, max_samples=size, max_depth=10)\n",
    "    euc_mean_acc.append(cross_validation(X=train_X, y=train_y, model=lwrf, temperature=1.0, distance_agg_func=mean_distance, distance_function=euclidean_distance, folds=5, verbose=True))\n",
    "    euc_median_acc.append(cross_validation(X=train_X, y=train_y, model=lwrf, temperature=1.0, distance_agg_func=mean_distance, distance_function=euclidean_distance, folds=5, verbose=True))\n"
   ]
  },
  {
   "cell_type": "code",
   "execution_count": 51,
   "metadata": {},
   "outputs": [
    {
     "name": "stdout",
     "output_type": "stream",
     "text": [
      "Fold Accuracy:  0.9512195121951219\n",
      "Fold Accuracy:  0.9390243902439024\n",
      "Fold Accuracy:  0.9329268292682927\n",
      "Fold Accuracy:  0.8475609756097561\n",
      "Fold Accuracy:  0.9329268292682927\n",
      "Fold Accuracy:  0.9573170731707317\n",
      "Fold Accuracy:  0.8658536585365854\n",
      "Fold Accuracy:  0.8963414634146342\n",
      "Fold Accuracy:  0.8353658536585366\n",
      "Fold Accuracy:  0.9085365853658537\n",
      "Fold Accuracy:  0.9390243902439024\n",
      "Fold Accuracy:  0.8780487804878049\n",
      "Fold Accuracy:  0.9024390243902439\n",
      "Fold Accuracy:  0.823170731707317\n",
      "Fold Accuracy:  0.9390243902439024\n",
      "Fold Accuracy:  0.9634146341463414\n",
      "Fold Accuracy:  0.9512195121951219\n",
      "Fold Accuracy:  0.9817073170731707\n",
      "Fold Accuracy:  0.9146341463414634\n",
      "Fold Accuracy:  0.9695121951219512\n",
      "Fold Accuracy:  0.9573170731707317\n",
      "Fold Accuracy:  0.9512195121951219\n",
      "Fold Accuracy:  0.9634146341463414\n",
      "Fold Accuracy:  0.9329268292682927\n",
      "Fold Accuracy:  0.9634146341463414\n",
      "Fold Accuracy:  0.9512195121951219\n",
      "Fold Accuracy:  0.9451219512195121\n",
      "Fold Accuracy:  0.9573170731707317\n",
      "Fold Accuracy:  0.9329268292682927\n",
      "Fold Accuracy:  0.9634146341463414\n",
      "Fold Accuracy:  0.9634146341463414\n",
      "Fold Accuracy:  0.9695121951219512\n",
      "Fold Accuracy:  0.9939024390243902\n",
      "Fold Accuracy:  0.9512195121951219\n",
      "Fold Accuracy:  0.975609756097561\n",
      "Fold Accuracy:  0.9634146341463414\n",
      "Fold Accuracy:  0.9512195121951219\n",
      "Fold Accuracy:  0.9939024390243902\n",
      "Fold Accuracy:  0.9512195121951219\n",
      "Fold Accuracy:  0.975609756097561\n",
      "Fold Accuracy:  0.9634146341463414\n",
      "Fold Accuracy:  0.9573170731707317\n",
      "Fold Accuracy:  0.975609756097561\n",
      "Fold Accuracy:  0.9390243902439024\n",
      "Fold Accuracy:  0.975609756097561\n",
      "Fold Accuracy:  0.975609756097561\n",
      "Fold Accuracy:  0.9817073170731707\n",
      "Fold Accuracy:  0.9878048780487805\n",
      "Fold Accuracy:  0.9634146341463414\n",
      "Fold Accuracy:  0.975609756097561\n",
      "Fold Accuracy:  0.9634146341463414\n",
      "Fold Accuracy:  0.9573170731707317\n",
      "Fold Accuracy:  0.9939024390243902\n",
      "Fold Accuracy:  0.9390243902439024\n",
      "Fold Accuracy:  0.9939024390243902\n",
      "Fold Accuracy:  0.975609756097561\n",
      "Fold Accuracy:  0.9634146341463414\n",
      "Fold Accuracy:  0.9939024390243902\n",
      "Fold Accuracy:  0.9573170731707317\n",
      "Fold Accuracy:  0.975609756097561\n",
      "Fold Accuracy:  0.9878048780487805\n",
      "Fold Accuracy:  0.9817073170731707\n",
      "Fold Accuracy:  0.9939024390243902\n",
      "Fold Accuracy:  0.9634146341463414\n",
      "Fold Accuracy:  1.0\n",
      "Fold Accuracy:  0.975609756097561\n",
      "Fold Accuracy:  0.9817073170731707\n",
      "Fold Accuracy:  0.9939024390243902\n",
      "Fold Accuracy:  0.9451219512195121\n",
      "Fold Accuracy:  0.975609756097561\n",
      "Fold Accuracy:  0.9878048780487805\n",
      "Fold Accuracy:  0.9817073170731707\n",
      "Fold Accuracy:  0.9939024390243902\n",
      "Fold Accuracy:  0.9451219512195121\n",
      "Fold Accuracy:  0.975609756097561\n",
      "Fold Accuracy:  0.975609756097561\n",
      "Fold Accuracy:  0.9878048780487805\n",
      "Fold Accuracy:  0.9939024390243902\n",
      "Fold Accuracy:  0.9634146341463414\n",
      "Fold Accuracy:  1.0\n",
      "Fold Accuracy:  0.975609756097561\n",
      "Fold Accuracy:  0.9878048780487805\n",
      "Fold Accuracy:  0.9939024390243902\n",
      "Fold Accuracy:  0.9451219512195121\n",
      "Fold Accuracy:  1.0\n",
      "Fold Accuracy:  0.9878048780487805\n",
      "Fold Accuracy:  0.9878048780487805\n",
      "Fold Accuracy:  0.9939024390243902\n",
      "Fold Accuracy:  0.9634146341463414\n",
      "Fold Accuracy:  0.9878048780487805\n",
      "Fold Accuracy:  0.9878048780487805\n",
      "Fold Accuracy:  0.9878048780487805\n",
      "Fold Accuracy:  0.9878048780487805\n",
      "Fold Accuracy:  0.9451219512195121\n",
      "Fold Accuracy:  1.0\n",
      "Fold Accuracy:  0.9878048780487805\n",
      "Fold Accuracy:  0.9878048780487805\n",
      "Fold Accuracy:  0.9939024390243902\n",
      "Fold Accuracy:  0.9451219512195121\n",
      "Fold Accuracy:  1.0\n",
      "Fold Accuracy:  0.9878048780487805\n",
      "Fold Accuracy:  0.9878048780487805\n",
      "Fold Accuracy:  0.9939024390243902\n",
      "Fold Accuracy:  0.9451219512195121\n",
      "Fold Accuracy:  1.0\n",
      "Fold Accuracy:  0.9878048780487805\n",
      "Fold Accuracy:  0.9878048780487805\n",
      "Fold Accuracy:  0.9878048780487805\n",
      "Fold Accuracy:  0.9634146341463414\n",
      "Fold Accuracy:  1.0\n",
      "Fold Accuracy:  0.9878048780487805\n",
      "Fold Accuracy:  0.9878048780487805\n",
      "Fold Accuracy:  0.9939024390243902\n",
      "Fold Accuracy:  0.9634146341463414\n",
      "Fold Accuracy:  1.0\n",
      "Fold Accuracy:  0.9878048780487805\n",
      "Fold Accuracy:  0.9878048780487805\n",
      "Fold Accuracy:  0.9878048780487805\n",
      "Fold Accuracy:  0.9451219512195121\n",
      "Fold Accuracy:  1.0\n",
      "Fold Accuracy:  0.9878048780487805\n",
      "Fold Accuracy:  0.9878048780487805\n",
      "Fold Accuracy:  0.9878048780487805\n",
      "Fold Accuracy:  0.9512195121951219\n",
      "Fold Accuracy:  1.0\n",
      "Fold Accuracy:  0.9878048780487805\n",
      "Fold Accuracy:  0.9878048780487805\n",
      "Fold Accuracy:  0.9878048780487805\n",
      "Fold Accuracy:  0.9634146341463414\n",
      "Fold Accuracy:  0.9878048780487805\n",
      "Fold Accuracy:  0.9878048780487805\n",
      "Fold Accuracy:  0.9878048780487805\n",
      "Fold Accuracy:  0.9878048780487805\n",
      "Fold Accuracy:  0.9451219512195121\n",
      "Fold Accuracy:  1.0\n",
      "Fold Accuracy:  0.9878048780487805\n",
      "Fold Accuracy:  0.9878048780487805\n",
      "Fold Accuracy:  0.9878048780487805\n",
      "Fold Accuracy:  0.9451219512195121\n",
      "Fold Accuracy:  1.0\n",
      "Fold Accuracy:  0.9878048780487805\n",
      "Fold Accuracy:  0.9878048780487805\n",
      "Fold Accuracy:  0.9878048780487805\n",
      "Fold Accuracy:  0.9451219512195121\n",
      "Fold Accuracy:  1.0\n",
      "Fold Accuracy:  0.9878048780487805\n",
      "Fold Accuracy:  0.9878048780487805\n",
      "Fold Accuracy:  0.9939024390243902\n",
      "Fold Accuracy:  0.9451219512195121\n",
      "Fold Accuracy:  1.0\n"
     ]
    }
   ],
   "source": [
    "\n",
    "for size in sample_sizes:\n",
    "    lwrf = LocallyWeightedRandomForest(n_estimators=300, max_samples=size, max_depth=10)\n",
    "    k_5_euc_mean_acc.append(cross_validation(X=train_X, y=train_y, model=lwrf, temperature=1.0, distance_agg_func=nearest_k_distance_mean(k=5), distance_function=euclidean_distance, folds=5, verbose=True))\n",
    "    k_10_euc_mean_acc.append(cross_validation(X=train_X, y=train_y, model=lwrf, temperature=1.0, distance_agg_func=nearest_k_distance_mean(k=10), distance_function=euclidean_distance, folds=5, verbose=True))\n",
    "    k_20_euc_mean_acc.append(cross_validation(X=train_X, y=train_y, model=lwrf, temperature=1.0, distance_agg_func=nearest_k_distance_mean(k=20), distance_function=euclidean_distance, folds=5, verbose=True))\n"
   ]
  },
  {
   "cell_type": "code",
   "execution_count": 57,
   "metadata": {},
   "outputs": [
    {
     "name": "stdout",
     "output_type": "stream",
     "text": [
      "Fold Accuracy:  0.9634146341463414\n",
      "Fold Accuracy:  0.9512195121951219\n",
      "Fold Accuracy:  0.9939024390243902\n",
      "Fold Accuracy:  0.926829268292683\n",
      "Fold Accuracy:  0.975609756097561\n",
      "Fold Accuracy:  0.975609756097561\n",
      "Fold Accuracy:  0.9573170731707317\n",
      "Fold Accuracy:  0.9939024390243902\n",
      "Fold Accuracy:  0.9512195121951219\n",
      "Fold Accuracy:  0.9939024390243902\n",
      "Fold Accuracy:  0.975609756097561\n",
      "Fold Accuracy:  0.9878048780487805\n",
      "Fold Accuracy:  0.9939024390243902\n",
      "Fold Accuracy:  0.9634146341463414\n",
      "Fold Accuracy:  0.9939024390243902\n",
      "Fold Accuracy:  0.975609756097561\n",
      "Fold Accuracy:  0.9878048780487805\n",
      "Fold Accuracy:  0.9939024390243902\n",
      "Fold Accuracy:  0.9695121951219512\n",
      "Fold Accuracy:  1.0\n",
      "Fold Accuracy:  0.975609756097561\n",
      "Fold Accuracy:  0.9878048780487805\n",
      "Fold Accuracy:  0.9878048780487805\n",
      "Fold Accuracy:  0.9634146341463414\n",
      "Fold Accuracy:  1.0\n",
      "Fold Accuracy:  0.975609756097561\n",
      "Fold Accuracy:  0.9878048780487805\n",
      "Fold Accuracy:  0.9878048780487805\n",
      "Fold Accuracy:  0.9634146341463414\n",
      "Fold Accuracy:  0.9878048780487805\n",
      "Fold Accuracy:  0.9878048780487805\n",
      "Fold Accuracy:  0.9878048780487805\n",
      "Fold Accuracy:  0.9878048780487805\n",
      "Fold Accuracy:  0.9451219512195121\n",
      "Fold Accuracy:  1.0\n",
      "Fold Accuracy:  0.9878048780487805\n",
      "Fold Accuracy:  0.9878048780487805\n",
      "Fold Accuracy:  0.9878048780487805\n",
      "Fold Accuracy:  0.9634146341463414\n",
      "Fold Accuracy:  1.0\n",
      "Fold Accuracy:  0.9878048780487805\n",
      "Fold Accuracy:  0.9878048780487805\n",
      "Fold Accuracy:  0.9939024390243902\n",
      "Fold Accuracy:  0.9451219512195121\n",
      "Fold Accuracy:  1.0\n",
      "Fold Accuracy:  0.9878048780487805\n",
      "Fold Accuracy:  0.9878048780487805\n",
      "Fold Accuracy:  0.9878048780487805\n",
      "Fold Accuracy:  0.9451219512195121\n",
      "Fold Accuracy:  1.0\n"
     ]
    }
   ],
   "source": [
    "\n",
    "for size in sample_sizes:\n",
    "    lwrf = LocallyWeightedRandomForest(n_estimators=300, max_samples=size, max_depth=10)\n",
    "    k_1_euc_mean_acc.append(cross_validation(X=train_X, y=train_y, model=lwrf, temperature=1.0, distance_agg_func=nearest_k_distance_mean(k=1), distance_function=euclidean_distance, folds=5, verbose=True))\n"
   ]
  },
  {
   "cell_type": "code",
   "execution_count": 42,
   "metadata": {},
   "outputs": [],
   "source": [
    "from sklearn.model_selection import cross_val_score"
   ]
  },
  {
   "cell_type": "code",
   "execution_count": 48,
   "metadata": {},
   "outputs": [],
   "source": [
    "random_forest_acc = []\n",
    "for size in sample_sizes:\n",
    "    model = RandomForestClassifier(random_state=0, n_estimators=300, max_samples=size, max_depth=10)\n",
    "    random_forest_acc.append(np.mean(cross_val_score(model, train_X, train_y, cv=5)))"
   ]
  },
  {
   "cell_type": "code",
   "execution_count": 77,
   "metadata": {},
   "outputs": [
    {
     "name": "stdout",
     "output_type": "stream",
     "text": [
      "              precision    recall  f1-score   support\n",
      "\n",
      "           0    1.00000   0.97222   0.98592       108\n",
      "           1    0.97000   1.00000   0.98477        97\n",
      "\n",
      "    accuracy                        0.98537       205\n",
      "   macro avg    0.98500   0.98611   0.98534       205\n",
      "weighted avg    0.98580   0.98537   0.98537       205\n",
      "\n"
     ]
    }
   ],
   "source": [
    "my_test_model = LocallyWeightedRandomForest(n_estimators=300, max_depth=10, max_samples=0.8)\n",
    "my_test_model.fit(train_X, train_y)\n",
    "pred = my_test_model.predict(test_X,temperature=1, distance_aggregation_function=nearest_k_distance_mean(k=10), distance_function=euclidean_distance )\n",
    "print(classification_report(test_y, pred, digits=5))"
   ]
  },
  {
   "cell_type": "code",
   "execution_count": 58,
   "metadata": {},
   "outputs": [
    {
     "data": {
      "image/png": "[encoded data removed]",
      "text/plain": [
       "<Figure size 640x480 with 1 Axes>"
      ]
     },
     "metadata": {},
     "output_type": "display_data"
    }
   ],
   "source": [
    "plt.plot(sample_sizes, euc_mean_acc, label = \"Euclidean Mean\")\n",
    "plt.plot(sample_sizes, euc_median_acc, label = \"Euclidean Median\")\n",
    "plt.plot(sample_sizes, random_forest_acc, label = \"Random Forest\")\n",
    "plt.plot(sample_sizes, k_1_euc_mean_acc, label = \"k=1 Euclidean\")\n",
    "plt.plot(sample_sizes, k_5_euc_mean_acc, label = \"k=5 Euclidean\")\n",
    "plt.plot(sample_sizes, k_10_euc_mean_acc, label = \"k=10 Euclidean\")\n",
    "plt.plot(sample_sizes, k_20_euc_mean_acc, label = \"k=20 Euclidean\")\n",
    "plt.plot(sample_sizes, random_forest_acc, label = \"Random Forest\")\n",
    "plt.legend()\n",
    "plt.show()"
   ]
  },
  {
   "cell_type": "code",
   "execution_count": 74,
   "metadata": {},
   "outputs": [
    {
     "data": {
      "text/plain": [
       "0.9853658536585366"
      ]
     },
     "execution_count": 74,
     "metadata": {},
     "output_type": "execute_result"
    }
   ],
   "source": [
    "max(k_5_euc_mean_acc)"
   ]
  },
  {
   "cell_type": "code",
   "execution_count": 73,
   "metadata": {},
   "outputs": [
    {
     "data": {
      "text/plain": [
       "0.9853658536585366"
      ]
     },
     "execution_count": 73,
     "metadata": {},
     "output_type": "execute_result"
    }
   ],
   "source": [
    "max(k_1_euc_mean_acc)"
   ]
  },
  {
   "cell_type": "code",
   "execution_count": 91,
   "metadata": {},
   "outputs": [
    {
     "name": "stdout",
     "output_type": "stream",
     "text": [
      "Fold Accuracy: \n",
      "Temp:  0.15 , fold acc:  0.975609756097561\n",
      "Temp:  0.25 , fold acc:  0.975609756097561\n",
      "Temp:  0.35 , fold acc:  0.975609756097561\n",
      "Temp:  0.45 , fold acc:  0.975609756097561\n",
      "Temp:  0.55 , fold acc:  0.975609756097561\n",
      "Temp:  0.65 , fold acc:  0.975609756097561\n",
      "Temp:  0.75 , fold acc:  0.975609756097561\n",
      "Temp:  0.75 , fold acc:  0.975609756097561\n",
      "Temp:  0.85 , fold acc:  0.975609756097561\n",
      "Temp:  1 , fold acc:  0.975609756097561\n",
      "Temp:  2 , fold acc:  0.975609756097561\n",
      "Temp:  5 , fold acc:  0.9634146341463414\n",
      "Temp:  10 , fold acc:  0.9634146341463414\n",
      "Temp:  15 , fold acc:  0.9634146341463414\n",
      "Temp:  25 , fold acc:  0.9634146341463414\n",
      "Fold Accuracy: \n",
      "Temp:  0.15 , fold acc:  0.9878048780487805\n",
      "Temp:  0.25 , fold acc:  0.9878048780487805\n",
      "Temp:  0.35 , fold acc:  0.9878048780487805\n",
      "Temp:  0.45 , fold acc:  0.9878048780487805\n",
      "Temp:  0.55 , fold acc:  0.9878048780487805\n",
      "Temp:  0.65 , fold acc:  0.9878048780487805\n",
      "Temp:  0.75 , fold acc:  0.9878048780487805\n",
      "Temp:  0.75 , fold acc:  0.9878048780487805\n",
      "Temp:  0.85 , fold acc:  0.9878048780487805\n",
      "Temp:  1 , fold acc:  0.9878048780487805\n",
      "Temp:  2 , fold acc:  0.9817073170731707\n",
      "Temp:  5 , fold acc:  0.9817073170731707\n",
      "Temp:  10 , fold acc:  0.9634146341463414\n",
      "Temp:  15 , fold acc:  0.9634146341463414\n",
      "Temp:  25 , fold acc:  0.9634146341463414\n",
      "Fold Accuracy: \n",
      "Temp:  0.15 , fold acc:  0.9939024390243902\n",
      "Temp:  0.25 , fold acc:  0.9939024390243902\n",
      "Temp:  0.35 , fold acc:  0.9939024390243902\n",
      "Temp:  0.45 , fold acc:  0.9939024390243902\n",
      "Temp:  0.55 , fold acc:  0.9939024390243902\n",
      "Temp:  0.65 , fold acc:  0.9939024390243902\n",
      "Temp:  0.75 , fold acc:  0.9939024390243902\n",
      "Temp:  0.75 , fold acc:  0.9939024390243902\n",
      "Temp:  0.85 , fold acc:  0.9939024390243902\n",
      "Temp:  1 , fold acc:  0.9939024390243902\n",
      "Temp:  2 , fold acc:  0.9939024390243902\n",
      "Temp:  5 , fold acc:  0.9939024390243902\n",
      "Temp:  10 , fold acc:  0.9939024390243902\n",
      "Temp:  15 , fold acc:  0.9939024390243902\n",
      "Temp:  25 , fold acc:  0.9939024390243902\n",
      "Fold Accuracy: \n",
      "Temp:  0.15 , fold acc:  0.9634146341463414\n",
      "Temp:  0.25 , fold acc:  0.9634146341463414\n",
      "Temp:  0.35 , fold acc:  0.9634146341463414\n",
      "Temp:  0.45 , fold acc:  0.9634146341463414\n",
      "Temp:  0.55 , fold acc:  0.9634146341463414\n",
      "Temp:  0.65 , fold acc:  0.9634146341463414\n",
      "Temp:  0.75 , fold acc:  0.9634146341463414\n",
      "Temp:  0.75 , fold acc:  0.9634146341463414\n",
      "Temp:  0.85 , fold acc:  0.9634146341463414\n",
      "Temp:  1 , fold acc:  0.9634146341463414\n",
      "Temp:  2 , fold acc:  0.9634146341463414\n",
      "Temp:  5 , fold acc:  0.9512195121951219\n",
      "Temp:  10 , fold acc:  0.9512195121951219\n",
      "Temp:  15 , fold acc:  0.9512195121951219\n",
      "Temp:  25 , fold acc:  0.9512195121951219\n",
      "Fold Accuracy: \n",
      "Temp:  0.15 , fold acc:  1.0\n",
      "Temp:  0.25 , fold acc:  1.0\n",
      "Temp:  0.35 , fold acc:  1.0\n",
      "Temp:  0.45 , fold acc:  1.0\n",
      "Temp:  0.55 , fold acc:  1.0\n",
      "Temp:  0.65 , fold acc:  1.0\n",
      "Temp:  0.75 , fold acc:  1.0\n",
      "Temp:  0.75 , fold acc:  1.0\n",
      "Temp:  0.85 , fold acc:  1.0\n",
      "Temp:  1 , fold acc:  1.0\n",
      "Temp:  2 , fold acc:  0.9939024390243902\n",
      "Temp:  5 , fold acc:  0.975609756097561\n",
      "Temp:  10 , fold acc:  0.975609756097561\n",
      "Temp:  15 , fold acc:  0.975609756097561\n",
      "Temp:  25 , fold acc:  0.975609756097561\n"
     ]
    }
   ],
   "source": [
    "lwrf = LocallyWeightedRandomForest(n_estimators=300, max_samples=0.4, max_depth=10)\n",
    "k_1_temp_scores = cross_validation_temperature_range(X=train_X, y=train_y, model=lwrf, temperature_list=[0.15, 0.25, 0.35, 0.45, 0.55, 0.65, 0.75, 0.75,0.85, 1, 2, 5, 10, 15, 25], distance_agg_func=nearest_k_distance_mean(k=1), distance_function=euclidean_distance, folds=5, verbose=True)\n"
   ]
  },
  {
   "cell_type": "code",
   "execution_count": 93,
   "metadata": {},
   "outputs": [
    {
     "name": "stdout",
     "output_type": "stream",
     "text": [
      "Fold Accuracy: \n",
      "Temp:  0.15 , fold acc:  0.975609756097561\n",
      "Temp:  0.25 , fold acc:  0.9634146341463414\n",
      "Temp:  0.35 , fold acc:  0.9634146341463414\n",
      "Temp:  0.45 , fold acc:  0.9634146341463414\n",
      "Temp:  0.55 , fold acc:  0.9634146341463414\n",
      "Temp:  0.65 , fold acc:  0.9634146341463414\n",
      "Temp:  0.75 , fold acc:  0.9634146341463414\n",
      "Temp:  0.75 , fold acc:  0.9634146341463414\n",
      "Temp:  0.85 , fold acc:  0.9634146341463414\n",
      "Temp:  1 , fold acc:  0.9634146341463414\n",
      "Temp:  2 , fold acc:  0.9634146341463414\n",
      "Temp:  5 , fold acc:  0.9634146341463414\n",
      "Temp:  10 , fold acc:  0.9634146341463414\n",
      "Temp:  15 , fold acc:  0.9634146341463414\n",
      "Temp:  25 , fold acc:  0.9634146341463414\n",
      "Fold Accuracy: \n",
      "Temp:  0.15 , fold acc:  0.9878048780487805\n",
      "Temp:  0.25 , fold acc:  0.9695121951219512\n",
      "Temp:  0.35 , fold acc:  0.9695121951219512\n",
      "Temp:  0.45 , fold acc:  0.9695121951219512\n",
      "Temp:  0.55 , fold acc:  0.9695121951219512\n",
      "Temp:  0.65 , fold acc:  0.9573170731707317\n",
      "Temp:  0.75 , fold acc:  0.9573170731707317\n",
      "Temp:  0.75 , fold acc:  0.9573170731707317\n",
      "Temp:  0.85 , fold acc:  0.9573170731707317\n",
      "Temp:  1 , fold acc:  0.9573170731707317\n",
      "Temp:  2 , fold acc:  0.9573170731707317\n",
      "Temp:  5 , fold acc:  0.9573170731707317\n",
      "Temp:  10 , fold acc:  0.9573170731707317\n",
      "Temp:  15 , fold acc:  0.9573170731707317\n",
      "Temp:  25 , fold acc:  0.9573170731707317\n",
      "Fold Accuracy: \n",
      "Temp:  0.15 , fold acc:  0.9878048780487805\n",
      "Temp:  0.25 , fold acc:  0.9878048780487805\n",
      "Temp:  0.35 , fold acc:  0.9878048780487805\n",
      "Temp:  0.45 , fold acc:  0.9878048780487805\n",
      "Temp:  0.55 , fold acc:  0.9878048780487805\n",
      "Temp:  0.65 , fold acc:  0.9878048780487805\n",
      "Temp:  0.75 , fold acc:  0.9878048780487805\n",
      "Temp:  0.75 , fold acc:  0.9878048780487805\n",
      "Temp:  0.85 , fold acc:  0.9878048780487805\n",
      "Temp:  1 , fold acc:  0.9878048780487805\n",
      "Temp:  2 , fold acc:  0.9878048780487805\n",
      "Temp:  5 , fold acc:  0.9878048780487805\n",
      "Temp:  10 , fold acc:  0.9878048780487805\n",
      "Temp:  15 , fold acc:  0.9878048780487805\n",
      "Temp:  25 , fold acc:  0.9878048780487805\n",
      "Fold Accuracy: \n",
      "Temp:  0.15 , fold acc:  0.9390243902439024\n",
      "Temp:  0.25 , fold acc:  0.9451219512195121\n",
      "Temp:  0.35 , fold acc:  0.9451219512195121\n",
      "Temp:  0.45 , fold acc:  0.9451219512195121\n",
      "Temp:  0.55 , fold acc:  0.9451219512195121\n",
      "Temp:  0.65 , fold acc:  0.9451219512195121\n",
      "Temp:  0.75 , fold acc:  0.9451219512195121\n",
      "Temp:  0.75 , fold acc:  0.9451219512195121\n",
      "Temp:  0.85 , fold acc:  0.9451219512195121\n",
      "Temp:  1 , fold acc:  0.9451219512195121\n",
      "Temp:  2 , fold acc:  0.9451219512195121\n",
      "Temp:  5 , fold acc:  0.9451219512195121\n",
      "Temp:  10 , fold acc:  0.9451219512195121\n",
      "Temp:  15 , fold acc:  0.9451219512195121\n",
      "Temp:  25 , fold acc:  0.9451219512195121\n",
      "Fold Accuracy: \n",
      "Temp:  0.15 , fold acc:  1.0\n",
      "Temp:  0.25 , fold acc:  0.9939024390243902\n",
      "Temp:  0.35 , fold acc:  0.9939024390243902\n",
      "Temp:  0.45 , fold acc:  0.9939024390243902\n",
      "Temp:  0.55 , fold acc:  0.9939024390243902\n",
      "Temp:  0.65 , fold acc:  0.9939024390243902\n",
      "Temp:  0.75 , fold acc:  0.9939024390243902\n",
      "Temp:  0.75 , fold acc:  0.9939024390243902\n",
      "Temp:  0.85 , fold acc:  0.9939024390243902\n",
      "Temp:  1 , fold acc:  0.975609756097561\n",
      "Temp:  2 , fold acc:  0.975609756097561\n",
      "Temp:  5 , fold acc:  0.975609756097561\n",
      "Temp:  10 , fold acc:  0.975609756097561\n",
      "Temp:  15 , fold acc:  0.975609756097561\n",
      "Temp:  25 , fold acc:  0.975609756097561\n"
     ]
    }
   ],
   "source": [
    "euc_mean_temp_scores = cross_validation_temperature_range(X=train_X, y=train_y, model=lwrf, temperature_list=[0.15, 0.25, 0.35, 0.45, 0.55, 0.65, 0.75, 0.75,0.85, 1, 2, 5, 10, 15, 25], distance_agg_func=mean_distance, distance_function=euclidean_distance, folds=5, verbose=True)\n"
   ]
  },
  {
   "cell_type": "code",
   "execution_count": 96,
   "metadata": {},
   "outputs": [
    {
     "name": "stdout",
     "output_type": "stream",
     "text": [
      "Fold Accuracy: \n",
      "Temp:  0.15 , fold acc:  0.975609756097561\n",
      "Temp:  0.25 , fold acc:  0.975609756097561\n",
      "Temp:  0.35 , fold acc:  0.975609756097561\n",
      "Temp:  0.45 , fold acc:  0.975609756097561\n",
      "Temp:  0.55 , fold acc:  0.975609756097561\n",
      "Temp:  0.65 , fold acc:  0.975609756097561\n",
      "Temp:  0.75 , fold acc:  0.975609756097561\n",
      "Temp:  0.75 , fold acc:  0.975609756097561\n",
      "Temp:  0.85 , fold acc:  0.975609756097561\n",
      "Temp:  1 , fold acc:  0.975609756097561\n",
      "Temp:  2 , fold acc:  0.9634146341463414\n",
      "Temp:  5 , fold acc:  0.9634146341463414\n",
      "Temp:  10 , fold acc:  0.9634146341463414\n",
      "Temp:  15 , fold acc:  0.9634146341463414\n",
      "Temp:  25 , fold acc:  0.9634146341463414\n",
      "Fold Accuracy: \n",
      "Temp:  0.15 , fold acc:  0.975609756097561\n",
      "Temp:  0.25 , fold acc:  0.9817073170731707\n",
      "Temp:  0.35 , fold acc:  0.9817073170731707\n",
      "Temp:  0.45 , fold acc:  0.9878048780487805\n",
      "Temp:  0.55 , fold acc:  0.9878048780487805\n",
      "Temp:  0.65 , fold acc:  0.9878048780487805\n",
      "Temp:  0.75 , fold acc:  0.9878048780487805\n",
      "Temp:  0.75 , fold acc:  0.9878048780487805\n",
      "Temp:  0.85 , fold acc:  0.9878048780487805\n",
      "Temp:  1 , fold acc:  0.9817073170731707\n",
      "Temp:  2 , fold acc:  0.9817073170731707\n",
      "Temp:  5 , fold acc:  0.9817073170731707\n",
      "Temp:  10 , fold acc:  0.9817073170731707\n",
      "Temp:  15 , fold acc:  0.9817073170731707\n",
      "Temp:  25 , fold acc:  0.9817073170731707\n",
      "Fold Accuracy: \n",
      "Temp:  0.15 , fold acc:  0.9939024390243902\n",
      "Temp:  0.25 , fold acc:  0.9939024390243902\n",
      "Temp:  0.35 , fold acc:  0.9939024390243902\n",
      "Temp:  0.45 , fold acc:  0.9939024390243902\n",
      "Temp:  0.55 , fold acc:  0.9939024390243902\n",
      "Temp:  0.65 , fold acc:  0.9939024390243902\n",
      "Temp:  0.75 , fold acc:  0.9939024390243902\n",
      "Temp:  0.75 , fold acc:  0.9939024390243902\n",
      "Temp:  0.85 , fold acc:  0.9939024390243902\n",
      "Temp:  1 , fold acc:  0.9939024390243902\n",
      "Temp:  2 , fold acc:  0.9939024390243902\n",
      "Temp:  5 , fold acc:  0.9939024390243902\n",
      "Temp:  10 , fold acc:  0.9939024390243902\n",
      "Temp:  15 , fold acc:  0.9939024390243902\n",
      "Temp:  25 , fold acc:  0.9939024390243902\n",
      "Fold Accuracy: \n",
      "Temp:  0.15 , fold acc:  0.9634146341463414\n",
      "Temp:  0.25 , fold acc:  0.9634146341463414\n",
      "Temp:  0.35 , fold acc:  0.9634146341463414\n",
      "Temp:  0.45 , fold acc:  0.9634146341463414\n",
      "Temp:  0.55 , fold acc:  0.9634146341463414\n",
      "Temp:  0.65 , fold acc:  0.9634146341463414\n",
      "Temp:  0.75 , fold acc:  0.9634146341463414\n",
      "Temp:  0.75 , fold acc:  0.9634146341463414\n",
      "Temp:  0.85 , fold acc:  0.9634146341463414\n",
      "Temp:  1 , fold acc:  0.9634146341463414\n",
      "Temp:  2 , fold acc:  0.9512195121951219\n",
      "Temp:  5 , fold acc:  0.9512195121951219\n",
      "Temp:  10 , fold acc:  0.9512195121951219\n",
      "Temp:  15 , fold acc:  0.9512195121951219\n",
      "Temp:  25 , fold acc:  0.9512195121951219\n",
      "Fold Accuracy: \n",
      "Temp:  0.15 , fold acc:  0.9878048780487805\n",
      "Temp:  0.25 , fold acc:  1.0\n",
      "Temp:  0.35 , fold acc:  1.0\n",
      "Temp:  0.45 , fold acc:  1.0\n",
      "Temp:  0.55 , fold acc:  1.0\n",
      "Temp:  0.65 , fold acc:  1.0\n",
      "Temp:  0.75 , fold acc:  1.0\n",
      "Temp:  0.75 , fold acc:  1.0\n",
      "Temp:  0.85 , fold acc:  1.0\n",
      "Temp:  1 , fold acc:  0.9939024390243902\n",
      "Temp:  2 , fold acc:  0.975609756097561\n",
      "Temp:  5 , fold acc:  0.975609756097561\n",
      "Temp:  10 , fold acc:  0.975609756097561\n",
      "Temp:  15 , fold acc:  0.975609756097561\n",
      "Temp:  25 , fold acc:  0.975609756097561\n"
     ]
    }
   ],
   "source": [
    "k_3_temp_scores = cross_validation_temperature_range(X=train_X, y=train_y, model=lwrf, temperature_list=[0.15, 0.25, 0.35, 0.45, 0.55, 0.65, 0.75, 0.75,0.85, 1, 2, 5, 10, 15, 25], distance_agg_func=nearest_k_distance_mean(k=3), distance_function=euclidean_distance, folds=5, verbose=True)\n"
   ]
  },
  {
   "cell_type": "code",
   "execution_count": 98,
   "metadata": {},
   "outputs": [
    {
     "name": "stdout",
     "output_type": "stream",
     "text": [
      "Fold Accuracy: \n",
      "Temp:  0.15 , fold acc:  0.975609756097561\n",
      "Temp:  0.25 , fold acc:  0.975609756097561\n",
      "Temp:  0.35 , fold acc:  0.975609756097561\n",
      "Temp:  0.45 , fold acc:  0.975609756097561\n",
      "Temp:  0.55 , fold acc:  0.975609756097561\n",
      "Temp:  0.65 , fold acc:  0.975609756097561\n",
      "Temp:  0.75 , fold acc:  0.975609756097561\n",
      "Temp:  0.75 , fold acc:  0.975609756097561\n",
      "Temp:  0.85 , fold acc:  0.975609756097561\n",
      "Temp:  1 , fold acc:  0.975609756097561\n",
      "Temp:  2 , fold acc:  0.9634146341463414\n",
      "Temp:  5 , fold acc:  0.9634146341463414\n",
      "Temp:  10 , fold acc:  0.9634146341463414\n",
      "Temp:  15 , fold acc:  0.9634146341463414\n",
      "Temp:  25 , fold acc:  0.9634146341463414\n",
      "Fold Accuracy: \n",
      "Temp:  0.15 , fold acc:  0.9878048780487805\n",
      "Temp:  0.25 , fold acc:  0.9878048780487805\n",
      "Temp:  0.35 , fold acc:  0.9878048780487805\n",
      "Temp:  0.45 , fold acc:  0.9878048780487805\n",
      "Temp:  0.55 , fold acc:  0.9878048780487805\n",
      "Temp:  0.65 , fold acc:  0.9878048780487805\n",
      "Temp:  0.75 , fold acc:  0.9817073170731707\n",
      "Temp:  0.75 , fold acc:  0.9817073170731707\n",
      "Temp:  0.85 , fold acc:  0.9817073170731707\n",
      "Temp:  1 , fold acc:  0.9817073170731707\n",
      "Temp:  2 , fold acc:  0.9695121951219512\n",
      "Temp:  5 , fold acc:  0.9695121951219512\n",
      "Temp:  10 , fold acc:  0.9695121951219512\n",
      "Temp:  15 , fold acc:  0.9695121951219512\n",
      "Temp:  25 , fold acc:  0.9695121951219512\n",
      "Fold Accuracy: \n",
      "Temp:  0.15 , fold acc:  0.9878048780487805\n",
      "Temp:  0.25 , fold acc:  0.9878048780487805\n",
      "Temp:  0.35 , fold acc:  0.9878048780487805\n",
      "Temp:  0.45 , fold acc:  0.9878048780487805\n",
      "Temp:  0.55 , fold acc:  0.9878048780487805\n",
      "Temp:  0.65 , fold acc:  0.9878048780487805\n",
      "Temp:  0.75 , fold acc:  0.9878048780487805\n",
      "Temp:  0.75 , fold acc:  0.9878048780487805\n",
      "Temp:  0.85 , fold acc:  0.9878048780487805\n",
      "Temp:  1 , fold acc:  0.9878048780487805\n",
      "Temp:  2 , fold acc:  0.9878048780487805\n",
      "Temp:  5 , fold acc:  0.9878048780487805\n",
      "Temp:  10 , fold acc:  0.9878048780487805\n",
      "Temp:  15 , fold acc:  0.9878048780487805\n",
      "Temp:  25 , fold acc:  0.9878048780487805\n",
      "Fold Accuracy: \n",
      "Temp:  0.15 , fold acc:  0.9695121951219512\n",
      "Temp:  0.25 , fold acc:  0.9634146341463414\n",
      "Temp:  0.35 , fold acc:  0.9634146341463414\n",
      "Temp:  0.45 , fold acc:  0.9634146341463414\n",
      "Temp:  0.55 , fold acc:  0.9634146341463414\n",
      "Temp:  0.65 , fold acc:  0.9634146341463414\n",
      "Temp:  0.75 , fold acc:  0.9634146341463414\n",
      "Temp:  0.75 , fold acc:  0.9634146341463414\n",
      "Temp:  0.85 , fold acc:  0.9634146341463414\n",
      "Temp:  1 , fold acc:  0.9634146341463414\n",
      "Temp:  2 , fold acc:  0.9512195121951219\n",
      "Temp:  5 , fold acc:  0.9512195121951219\n",
      "Temp:  10 , fold acc:  0.9512195121951219\n",
      "Temp:  15 , fold acc:  0.9512195121951219\n",
      "Temp:  25 , fold acc:  0.9512195121951219\n",
      "Fold Accuracy: \n",
      "Temp:  0.15 , fold acc:  1.0\n",
      "Temp:  0.25 , fold acc:  1.0\n",
      "Temp:  0.35 , fold acc:  1.0\n",
      "Temp:  0.45 , fold acc:  1.0\n",
      "Temp:  0.55 , fold acc:  1.0\n",
      "Temp:  0.65 , fold acc:  1.0\n",
      "Temp:  0.75 , fold acc:  1.0\n",
      "Temp:  0.75 , fold acc:  1.0\n",
      "Temp:  0.85 , fold acc:  0.9939024390243902\n",
      "Temp:  1 , fold acc:  0.9939024390243902\n",
      "Temp:  2 , fold acc:  0.9939024390243902\n",
      "Temp:  5 , fold acc:  0.975609756097561\n",
      "Temp:  10 , fold acc:  0.975609756097561\n",
      "Temp:  15 , fold acc:  0.975609756097561\n",
      "Temp:  25 , fold acc:  0.975609756097561\n"
     ]
    }
   ],
   "source": [
    "k_5_temp_scores = cross_validation_temperature_range(X=train_X, y=train_y, model=lwrf, temperature_list=[0.15, 0.25, 0.35, 0.45, 0.55, 0.65, 0.75, 0.75,0.85, 1, 2, 5, 10, 15, 25], distance_agg_func=nearest_k_distance_mean(k=5), distance_function=euclidean_distance, folds=5, verbose=True)\n"
   ]
  },
  {
   "cell_type": "code",
   "execution_count": 99,
   "metadata": {},
   "outputs": [
    {
     "name": "stdout",
     "output_type": "stream",
     "text": [
      "Fold Accuracy: \n",
      "Temp:  0.15 , fold acc:  0.9817073170731707\n",
      "Temp:  0.25 , fold acc:  0.975609756097561\n",
      "Temp:  0.35 , fold acc:  0.975609756097561\n",
      "Temp:  0.45 , fold acc:  0.975609756097561\n",
      "Temp:  0.55 , fold acc:  0.975609756097561\n",
      "Temp:  0.65 , fold acc:  0.975609756097561\n",
      "Temp:  0.75 , fold acc:  0.975609756097561\n",
      "Temp:  0.75 , fold acc:  0.975609756097561\n",
      "Temp:  0.85 , fold acc:  0.975609756097561\n",
      "Temp:  1 , fold acc:  0.975609756097561\n",
      "Temp:  2 , fold acc:  0.975609756097561\n",
      "Temp:  5 , fold acc:  0.975609756097561\n",
      "Temp:  10 , fold acc:  0.975609756097561\n",
      "Temp:  15 , fold acc:  0.975609756097561\n",
      "Temp:  25 , fold acc:  0.975609756097561\n",
      "Fold Accuracy: \n",
      "Temp:  0.15 , fold acc:  0.975609756097561\n",
      "Temp:  0.25 , fold acc:  0.9817073170731707\n",
      "Temp:  0.35 , fold acc:  0.9817073170731707\n",
      "Temp:  0.45 , fold acc:  0.9817073170731707\n",
      "Temp:  0.55 , fold acc:  0.9817073170731707\n",
      "Temp:  0.65 , fold acc:  0.9817073170731707\n",
      "Temp:  0.75 , fold acc:  0.9817073170731707\n",
      "Temp:  0.75 , fold acc:  0.9817073170731707\n",
      "Temp:  0.85 , fold acc:  0.9817073170731707\n",
      "Temp:  1 , fold acc:  0.9817073170731707\n",
      "Temp:  2 , fold acc:  0.9817073170731707\n",
      "Temp:  5 , fold acc:  0.9817073170731707\n",
      "Temp:  10 , fold acc:  0.9817073170731707\n",
      "Temp:  15 , fold acc:  0.9817073170731707\n",
      "Temp:  25 , fold acc:  0.9817073170731707\n",
      "Fold Accuracy: \n",
      "Temp:  0.15 , fold acc:  0.9939024390243902\n",
      "Temp:  0.25 , fold acc:  0.9939024390243902\n",
      "Temp:  0.35 , fold acc:  0.9939024390243902\n",
      "Temp:  0.45 , fold acc:  0.9939024390243902\n",
      "Temp:  0.55 , fold acc:  0.9939024390243902\n",
      "Temp:  0.65 , fold acc:  0.9939024390243902\n",
      "Temp:  0.75 , fold acc:  0.9939024390243902\n",
      "Temp:  0.75 , fold acc:  0.9939024390243902\n",
      "Temp:  0.85 , fold acc:  0.9939024390243902\n",
      "Temp:  1 , fold acc:  0.9939024390243902\n",
      "Temp:  2 , fold acc:  0.9939024390243902\n",
      "Temp:  5 , fold acc:  0.9939024390243902\n",
      "Temp:  10 , fold acc:  0.9939024390243902\n",
      "Temp:  15 , fold acc:  0.9939024390243902\n",
      "Temp:  25 , fold acc:  0.9939024390243902\n",
      "Fold Accuracy: \n",
      "Temp:  0.15 , fold acc:  0.9512195121951219\n",
      "Temp:  0.25 , fold acc:  0.9207317073170732\n",
      "Temp:  0.35 , fold acc:  0.9207317073170732\n",
      "Temp:  0.45 , fold acc:  0.9207317073170732\n",
      "Temp:  0.55 , fold acc:  0.9207317073170732\n",
      "Temp:  0.65 , fold acc:  0.9207317073170732\n",
      "Temp:  0.75 , fold acc:  0.9207317073170732\n",
      "Temp:  0.75 , fold acc:  0.9207317073170732\n",
      "Temp:  0.85 , fold acc:  0.9207317073170732\n",
      "Temp:  1 , fold acc:  0.9207317073170732\n",
      "Temp:  2 , fold acc:  0.9207317073170732\n",
      "Temp:  5 , fold acc:  0.9207317073170732\n",
      "Temp:  10 , fold acc:  0.9207317073170732\n",
      "Temp:  15 , fold acc:  0.9207317073170732\n",
      "Temp:  25 , fold acc:  0.9207317073170732\n",
      "Fold Accuracy: \n",
      "Temp:  0.15 , fold acc:  0.9939024390243902\n",
      "Temp:  0.25 , fold acc:  0.975609756097561\n",
      "Temp:  0.35 , fold acc:  0.975609756097561\n",
      "Temp:  0.45 , fold acc:  0.975609756097561\n",
      "Temp:  0.55 , fold acc:  0.975609756097561\n",
      "Temp:  0.65 , fold acc:  0.975609756097561\n",
      "Temp:  0.75 , fold acc:  0.975609756097561\n",
      "Temp:  0.75 , fold acc:  0.975609756097561\n",
      "Temp:  0.85 , fold acc:  0.975609756097561\n",
      "Temp:  1 , fold acc:  0.975609756097561\n",
      "Temp:  2 , fold acc:  0.975609756097561\n",
      "Temp:  5 , fold acc:  0.975609756097561\n",
      "Temp:  10 , fold acc:  0.975609756097561\n",
      "Temp:  15 , fold acc:  0.975609756097561\n",
      "Temp:  25 , fold acc:  0.975609756097561\n"
     ]
    }
   ],
   "source": [
    "dataset_mean_temp_scores = cross_validation_temperature_range(X=train_X, y=train_y, model=lwrf, temperature_list=[0.15, 0.25, 0.35, 0.45, 0.55, 0.65, 0.75, 0.75,0.85, 1, 2, 5, 10, 15, 25], distance_agg_func=distance_to_dataset_mean, distance_function=euclidean_distance, folds=5, verbose=True)\n"
   ]
  },
  {
   "cell_type": "code",
   "execution_count": 69,
   "metadata": {},
   "outputs": [
    {
     "data": {
      "text/plain": [
       "array([0.98292683, 0.98292683, 0.98292683, 0.98292683, 0.97804878,\n",
       "       0.97195122, 0.9695122 , 0.9695122 , 0.9695122 ])"
      ]
     },
     "execution_count": 69,
     "metadata": {},
     "output_type": "execute_result"
    }
   ],
   "source": [
    "k_1_temp_scores"
   ]
  },
  {
   "cell_type": "code",
   "execution_count": 102,
   "metadata": {},
   "outputs": [
    {
     "data": {
      "image/png": "[encoded data removed]",
      "text/plain": [
       "<Figure size 640x480 with 1 Axes>"
      ]
     },
     "metadata": {},
     "output_type": "display_data"
    }
   ],
   "source": [
    "temperature_list=[0.15, 0.25, 0.35, 0.45, 0.55, 0.65, 0.75, 0.75,0.85, 1, 2, 5, 10, 15, 25]\n",
    "\n",
    "\n",
    "# Baseline with random forest\n",
    "model = RandomForestClassifier(random_state=1, n_estimators=300, max_samples=0.4, max_depth=10)\n",
    "random_forest_cross_eval = np.mean(cross_val_score(model, train_X, train_y, cv=5))\n",
    "\n",
    "\n",
    "plt.plot(temperature_list, k_1_temp_scores, label = \"k=1 Euclidean\")\n",
    "plt.plot(temperature_list, k_3_temp_scores, label = \"k=3 Euclidean\")\n",
    "plt.plot(temperature_list, k_5_temp_scores, label = \"k=5 Euclidean\")\n",
    "\n",
    "plt.plot(temperature_list, euc_mean_temp_scores, label = \" Euclidean Mean\"  )\n",
    "plt.plot(temperature_list, dataset_mean_temp_scores, label = \" dataset euc Mean\"  )\n",
    "\n",
    "plt.axhline(y = random_forest_cross_eval, color = 'r', linestyle = '--', label = \"Random Forest\") \n",
    "plt.legend()\n",
    "plt.show()"
   ]
  },
  {
   "cell_type": "code",
   "execution_count": 55,
   "metadata": {},
   "outputs": [
    {
     "data": {
      "text/plain": [
       "0.9865853658536586"
      ]
     },
     "execution_count": 55,
     "metadata": {},
     "output_type": "execute_result"
    }
   ],
   "source": [
    "max(k_10_euc_mean_acc)"
   ]
  },
  {
   "cell_type": "code",
   "execution_count": 15,
   "metadata": {},
   "outputs": [
    {
     "name": "stdout",
     "output_type": "stream",
     "text": [
      "Fold Accuracy:  0.9878048780487805\n",
      "Fold Accuracy:  0.9878048780487805\n",
      "Fold Accuracy:  0.9878048780487805\n",
      "Fold Accuracy:  0.9451219512195121\n",
      "Fold Accuracy:  1.0\n"
     ]
    },
    {
     "data": {
      "text/plain": [
       "0.9817073170731707"
      ]
     },
     "execution_count": 15,
     "metadata": {},
     "output_type": "execute_result"
    }
   ],
   "source": [
    "cross_validation(X=train_X, y=train_y, model=lwrf, temperature=1.0, distance_agg_func=mean_distance, distance_function=euclidean_distance, folds=5, verbose=True)"
   ]
  },
  {
   "cell_type": "code",
   "execution_count": 16,
   "metadata": {},
   "outputs": [
    {
     "name": "stdout",
     "output_type": "stream",
     "text": [
      "Fold Accuracy:  0.975609756097561\n",
      "Fold Accuracy:  0.9878048780487805\n",
      "Fold Accuracy:  0.9878048780487805\n",
      "Fold Accuracy:  0.9634146341463414\n",
      "Fold Accuracy:  1.0\n"
     ]
    },
    {
     "data": {
      "text/plain": [
       "0.9829268292682926"
      ]
     },
     "execution_count": 16,
     "metadata": {},
     "output_type": "execute_result"
    }
   ],
   "source": [
    "cross_validation(X=train_X, y=train_y, model=lwrf, temperature=2.0, distance_agg_func=mean_distance, distance_function=euclidean_distance, folds=5, verbose=True)"
   ]
  },
  {
   "cell_type": "code",
   "execution_count": 33,
   "metadata": {},
   "outputs": [
    {
     "name": "stdout",
     "output_type": "stream",
     "text": [
      "Fold Accuracy:  0.9878048780487805\n",
      "Fold Accuracy:  0.9878048780487805\n",
      "Fold Accuracy:  0.9939024390243902\n",
      "Fold Accuracy:  0.9451219512195121\n",
      "Fold Accuracy:  1.0\n"
     ]
    },
    {
     "data": {
      "text/plain": [
       "0.9829268292682928"
      ]
     },
     "execution_count": 33,
     "metadata": {},
     "output_type": "execute_result"
    }
   ],
   "source": [
    "cross_validation(X=train_X, y=train_y, model=lwrf, temperature=2.0, distance_agg_func=nearest_k_distance_mean(k=10), distance_function=euclidean_distance, folds=5, verbose=True)"
   ]
  },
  {
   "cell_type": "code",
   "execution_count": 34,
   "metadata": {},
   "outputs": [
    {
     "name": "stdout",
     "output_type": "stream",
     "text": [
      "Fold Accuracy:  0.9878048780487805\n",
      "Fold Accuracy:  0.9817073170731707\n",
      "Fold Accuracy:  0.9878048780487805\n",
      "Fold Accuracy:  0.9634146341463414\n",
      "Fold Accuracy:  0.9878048780487805\n"
     ]
    },
    {
     "data": {
      "text/plain": [
       "0.9817073170731707"
      ]
     },
     "execution_count": 34,
     "metadata": {},
     "output_type": "execute_result"
    }
   ],
   "source": [
    "cross_validation(X=train_X, y=train_y, model=lwrf, temperature=2.0, distance_agg_func=nearest_k_distance_mean(k=1), distance_function=euclidean_distance, folds=5, verbose=True)"
   ]
  },
  {
   "cell_type": "code",
   "execution_count": null,
   "metadata": {},
   "outputs": [],
   "source": []
  }
 ],
 "metadata": {
  "kernelspec": {
   "display_name": "Python 3.10.8 64-bit",
   "language": "python",
   "name": "python3"
  },
  "language_info": {
   "codemirror_mode": {
    "name": "ipython",
    "version": 3
   },
   "file_extension": ".py",
   "mimetype": "text/x-python",
   "name": "python",
   "nbconvert_exporter": "python",
   "pygments_lexer": "ipython3",
   "version": "3.10.8"
  },
  "orig_nbformat": 4,
  "vscode": {
   "interpreter": {
    "hash": "b0fa6594d8f4cbf19f97940f81e996739fb7646882a419484c72d19e05852a7e"
   }
  }
 },
 "nbformat": 4,
 "nbformat_minor": 2
}
