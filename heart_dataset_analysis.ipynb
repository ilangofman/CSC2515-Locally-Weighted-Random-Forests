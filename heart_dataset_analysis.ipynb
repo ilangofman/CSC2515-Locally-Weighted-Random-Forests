{
 "cells": [
  {
   "cell_type": "code",
   "execution_count": 1,
   "metadata": {},
   "outputs": [],
   "source": [
    "import numpy as np\n",
    "import pandas as pd\n",
    "import statistics\n",
    "import matplotlib.pyplot as plt\n",
    "\n",
    "\n",
    "from sklearn.model_selection import GridSearchCV\n",
    "from sklearn.ensemble import RandomForestClassifier\n",
    "from sklearn.metrics import classification_report\n",
    "from sklearn.utils import resample\n",
    "from sklearn.tree import DecisionTreeClassifier\n",
    "from sklearn.model_selection import KFold\n",
    "from sklearn.metrics import accuracy_score\n",
    "from sklearn.metrics import pairwise\n",
    "\n",
    "from model_testing_util import cross_validation\n",
    "from load_data import load_heart_data, load_tweet_data"
   ]
  },
  {
   "cell_type": "code",
   "execution_count": 2,
   "metadata": {},
   "outputs": [],
   "source": [
    "train_X, test_X, train_y, test_y = load_heart_data(\"heart_dataset.csv\")"
   ]
  },
  {
   "cell_type": "code",
   "execution_count": 3,
   "metadata": {},
   "outputs": [
    {
     "name": "stdout",
     "output_type": "stream",
     "text": [
      "Shape of Train X:  (820, 13) , Type:  <class 'numpy.ndarray'>\n",
      "Shape of Test X:  (205, 13) , Type:  <class 'numpy.ndarray'>\n",
      "Shape of Train y:  (820,) , Type:  <class 'numpy.ndarray'>\n",
      "Shape of Test y:  (205,) , Type:  <class 'numpy.ndarray'>\n"
     ]
    }
   ],
   "source": [
    "print(\"Shape of Train X: \", train_X.shape, \", Type: \", type(train_X))\n",
    "print(\"Shape of Test X: \", test_X.shape, \", Type: \", type(test_X))\n",
    "print(\"Shape of Train y: \", train_y.shape, \", Type: \", type(train_y))\n",
    "print(\"Shape of Test y: \", test_y.shape, \", Type: \", type(test_y))"
   ]
  },
  {
   "cell_type": "markdown",
   "metadata": {},
   "source": [
    "# Baseline Performance\n",
    "\n",
    "Before testing out the new method explored in the project regarding the locally weighted trees, we will first test out the existing method we aim to improve upon, the random forest model."
   ]
  },
  {
   "cell_type": "code",
   "execution_count": 4,
   "metadata": {},
   "outputs": [],
   "source": [
    "# To find the best random forrest model, we need to tune the hyperparameters. Will do \n",
    "# so by performing a grid search \n",
    "\n",
    "grid_search_parameters = {'max_depth':[5, 10, 15, 30, 50, None], \n",
    "                          'n_estimators':[10, 25, 50, 100, 250, 500, 1000], \n",
    "                          'max_samples': [0.3, 0.5, 0.7, 0.8, 0.9, 1]}\n"
   ]
  },
  {
   "cell_type": "code",
   "execution_count": 16,
   "metadata": {},
   "outputs": [
    {
     "data": {
      "text/html": [
       "<style>#sk-container-id-6 {color: black;background-color: white;}#sk-container-id-6 pre{padding: 0;}#sk-container-id-6 div.sk-toggleable {background-color: white;}#sk-container-id-6 label.sk-toggleable__label {cursor: pointer;display: block;width: 100%;margin-bottom: 0;padding: 0.3em;box-sizing: border-box;text-align: center;}#sk-container-id-6 label.sk-toggleable__label-arrow:before {content: \"▸\";float: left;margin-right: 0.25em;color: #696969;}#sk-container-id-6 label.sk-toggleable__label-arrow:hover:before {color: black;}#sk-container-id-6 div.sk-estimator:hover label.sk-toggleable__label-arrow:before {color: black;}#sk-container-id-6 div.sk-toggleable__content {max-height: 0;max-width: 0;overflow: hidden;text-align: left;background-color: #f0f8ff;}#sk-container-id-6 div.sk-toggleable__content pre {margin: 0.2em;color: black;border-radius: 0.25em;background-color: #f0f8ff;}#sk-container-id-6 input.sk-toggleable__control:checked~div.sk-toggleable__content {max-height: 200px;max-width: 100%;overflow: auto;}#sk-container-id-6 input.sk-toggleable__control:checked~label.sk-toggleable__label-arrow:before {content: \"▾\";}#sk-container-id-6 div.sk-estimator input.sk-toggleable__control:checked~label.sk-toggleable__label {background-color: #d4ebff;}#sk-container-id-6 div.sk-label input.sk-toggleable__control:checked~label.sk-toggleable__label {background-color: #d4ebff;}#sk-container-id-6 input.sk-hidden--visually {border: 0;clip: rect(1px 1px 1px 1px);clip: rect(1px, 1px, 1px, 1px);height: 1px;margin: -1px;overflow: hidden;padding: 0;position: absolute;width: 1px;}#sk-container-id-6 div.sk-estimator {font-family: monospace;background-color: #f0f8ff;border: 1px dotted black;border-radius: 0.25em;box-sizing: border-box;margin-bottom: 0.5em;}#sk-container-id-6 div.sk-estimator:hover {background-color: #d4ebff;}#sk-container-id-6 div.sk-parallel-item::after {content: \"\";width: 100%;border-bottom: 1px solid gray;flex-grow: 1;}#sk-container-id-6 div.sk-label:hover label.sk-toggleable__label {background-color: #d4ebff;}#sk-container-id-6 div.sk-serial::before {content: \"\";position: absolute;border-left: 1px solid gray;box-sizing: border-box;top: 0;bottom: 0;left: 50%;z-index: 0;}#sk-container-id-6 div.sk-serial {display: flex;flex-direction: column;align-items: center;background-color: white;padding-right: 0.2em;padding-left: 0.2em;position: relative;}#sk-container-id-6 div.sk-item {position: relative;z-index: 1;}#sk-container-id-6 div.sk-parallel {display: flex;align-items: stretch;justify-content: center;background-color: white;position: relative;}#sk-container-id-6 div.sk-item::before, #sk-container-id-6 div.sk-parallel-item::before {content: \"\";position: absolute;border-left: 1px solid gray;box-sizing: border-box;top: 0;bottom: 0;left: 50%;z-index: -1;}#sk-container-id-6 div.sk-parallel-item {display: flex;flex-direction: column;z-index: 1;position: relative;background-color: white;}#sk-container-id-6 div.sk-parallel-item:first-child::after {align-self: flex-end;width: 50%;}#sk-container-id-6 div.sk-parallel-item:last-child::after {align-self: flex-start;width: 50%;}#sk-container-id-6 div.sk-parallel-item:only-child::after {width: 0;}#sk-container-id-6 div.sk-dashed-wrapped {border: 1px dashed gray;margin: 0 0.4em 0.5em 0.4em;box-sizing: border-box;padding-bottom: 0.4em;background-color: white;}#sk-container-id-6 div.sk-label label {font-family: monospace;font-weight: bold;display: inline-block;line-height: 1.2em;}#sk-container-id-6 div.sk-label-container {text-align: center;}#sk-container-id-6 div.sk-container {/* jupyter's `normalize.less` sets `[hidden] { display: none; }` but bootstrap.min.css set `[hidden] { display: none !important; }` so we also need the `!important` here to be able to override the default hidden behavior on the sphinx rendered scikit-learn.org. See: https://github.com/scikit-learn/scikit-learn/issues/21755 */display: inline-block !important;position: relative;}#sk-container-id-6 div.sk-text-repr-fallback {display: none;}</style><div id=\"sk-container-id-6\" class=\"sk-top-container\"><div class=\"sk-text-repr-fallback\"><pre>GridSearchCV(cv=5, estimator=RandomForestClassifier(random_state=1),\n",
       "             param_grid={&#x27;max_depth&#x27;: [5, 10, 15, 30, 50, None],\n",
       "                         &#x27;max_samples&#x27;: [0.3, 0.5, 0.7, 0.8, 0.9, 1],\n",
       "                         &#x27;n_estimators&#x27;: [10, 25, 50, 100, 250, 500, 1000]})</pre><b>In a Jupyter environment, please rerun this cell to show the HTML representation or trust the notebook. <br />On GitHub, the HTML representation is unable to render, please try loading this page with nbviewer.org.</b></div><div class=\"sk-container\" hidden><div class=\"sk-item sk-dashed-wrapped\"><div class=\"sk-label-container\"><div class=\"sk-label sk-toggleable\"><input class=\"sk-toggleable__control sk-hidden--visually\" id=\"sk-estimator-id-16\" type=\"checkbox\" ><label for=\"sk-estimator-id-16\" class=\"sk-toggleable__label sk-toggleable__label-arrow\">GridSearchCV</label><div class=\"sk-toggleable__content\"><pre>GridSearchCV(cv=5, estimator=RandomForestClassifier(random_state=1),\n",
       "             param_grid={&#x27;max_depth&#x27;: [5, 10, 15, 30, 50, None],\n",
       "                         &#x27;max_samples&#x27;: [0.3, 0.5, 0.7, 0.8, 0.9, 1],\n",
       "                         &#x27;n_estimators&#x27;: [10, 25, 50, 100, 250, 500, 1000]})</pre></div></div></div><div class=\"sk-parallel\"><div class=\"sk-parallel-item\"><div class=\"sk-item\"><div class=\"sk-label-container\"><div class=\"sk-label sk-toggleable\"><input class=\"sk-toggleable__control sk-hidden--visually\" id=\"sk-estimator-id-17\" type=\"checkbox\" ><label for=\"sk-estimator-id-17\" class=\"sk-toggleable__label sk-toggleable__label-arrow\">estimator: RandomForestClassifier</label><div class=\"sk-toggleable__content\"><pre>RandomForestClassifier(random_state=1)</pre></div></div></div><div class=\"sk-serial\"><div class=\"sk-item\"><div class=\"sk-estimator sk-toggleable\"><input class=\"sk-toggleable__control sk-hidden--visually\" id=\"sk-estimator-id-18\" type=\"checkbox\" ><label for=\"sk-estimator-id-18\" class=\"sk-toggleable__label sk-toggleable__label-arrow\">RandomForestClassifier</label><div class=\"sk-toggleable__content\"><pre>RandomForestClassifier(random_state=1)</pre></div></div></div></div></div></div></div></div></div></div>"
      ],
      "text/plain": [
       "GridSearchCV(cv=5, estimator=RandomForestClassifier(random_state=1),\n",
       "             param_grid={'max_depth': [5, 10, 15, 30, 50, None],\n",
       "                         'max_samples': [0.3, 0.5, 0.7, 0.8, 0.9, 1],\n",
       "                         'n_estimators': [10, 25, 50, 100, 250, 500, 1000]})"
      ]
     },
     "execution_count": 16,
     "metadata": {},
     "output_type": "execute_result"
    }
   ],
   "source": [
    "random_forest_classifier = RandomForestClassifier(random_state=1)\n",
    "random_forest_classifier_GS = GridSearchCV(random_forest_classifier, grid_search_parameters, cv=5, verbose=0)\n",
    "random_forest_classifier_GS.fit(train_X, train_y)\n"
   ]
  },
  {
   "cell_type": "code",
   "execution_count": 17,
   "metadata": {},
   "outputs": [
    {
     "name": "stdout",
     "output_type": "stream",
     "text": [
      "Best Parameters:  {'max_depth': 10, 'max_samples': 0.7, 'n_estimators': 500}\n",
      "Best Score:  0.9817073170731707\n"
     ]
    }
   ],
   "source": [
    "print(\"Best Parameters: \", random_forest_classifier_GS.best_params_)\n",
    "print(\"Best Score: \", random_forest_classifier_GS.best_score_)"
   ]
  },
  {
   "cell_type": "code",
   "execution_count": 18,
   "metadata": {},
   "outputs": [
    {
     "name": "stdout",
     "output_type": "stream",
     "text": [
      "              precision    recall  f1-score   support\n",
      "\n",
      "           0    1.00000   0.94444   0.97143       108\n",
      "           1    0.94175   1.00000   0.97000        97\n",
      "\n",
      "    accuracy                        0.97073       205\n",
      "   macro avg    0.97087   0.97222   0.97071       205\n",
      "weighted avg    0.97244   0.97073   0.97075       205\n",
      "\n"
     ]
    }
   ],
   "source": [
    "# Train the model with the best parameters:\n",
    "random_forest_classifier = RandomForestClassifier(random_state=1, n_estimators=500, max_samples=0.7, max_depth=10)\n",
    "random_forest_classifier.fit(train_X, train_y)\n",
    "predictions = random_forest_classifier.predict(test_X)\n",
    "\n",
    "print(classification_report(test_y, predictions, digits=5))"
   ]
  },
  {
   "cell_type": "markdown",
   "metadata": {},
   "source": [
    "# Locally Weighted Random Forest"
   ]
  },
  {
   "cell_type": "code",
   "execution_count": 4,
   "metadata": {},
   "outputs": [],
   "source": [
    "from locallyWeightedRandomForest import LocallyWeightedRandomForest\n",
    "from sklearn.utils.estimator_checks import check_estimator"
   ]
  },
  {
   "cell_type": "markdown",
   "metadata": {},
   "source": [
    "# Distance functions"
   ]
  },
  {
   "cell_type": "code",
   "execution_count": 5,
   "metadata": {},
   "outputs": [],
   "source": [
    "def euclidean_distance(x_1:np.ndarray, x_2:np.ndarray) -> float:\n",
    "    return np.linalg.norm(x_1 - x_2)\n",
    "\n",
    "def manhattan_distance(x_1:np.ndarray, x_2:np.ndarray) -> float:\n",
    "    return np.linalg.norm(x_1 - x_2, ord=1)\n",
    "\n",
    "def cosine_similarity(x_1:np.ndarray, x_2:np.ndarray) -> float:\n",
    "    return np.dot(x_1,x_2)/(np.linalg.norm(x_1)*np.linalg.norm(x_2))\n",
    "\n",
    "def mean_distance(point:np.ndarray, dataset:np.ndarray, distance_function:callable = lambda a,b: 1)-> float:\n",
    "    distance_sum = 0\n",
    "    for p in dataset:\n",
    "        distance_sum += distance_function(point, p)\n",
    "    return distance_sum/len(dataset)\n",
    "\n",
    "def distance_to_dataset_mean(point:np.ndarray, dataset:np.ndarray, distance_function:callable = lambda a,b: 1)-> float:\n",
    "    mean_dataset_point = np.mean(dataset, axis=0)\n",
    "    return distance_function(point, mean_dataset_point)\n",
    "\n",
    "def median_distance(point:np.ndarray, dataset:np.ndarray, distance_function:callable = lambda a,b: 1)-> float:\n",
    "    distances = []\n",
    "    for p in dataset:\n",
    "        distances.append(distance_function(point, p))\n",
    "    return statistics.median(distances)\n",
    "\n",
    "def nearest_k_distance_mean(k:int) -> callable:\n",
    "    def _smallest_k_distances_mean(point:np.ndarray, dataset:np.ndarray, distance_function:callable = lambda a,b: 1) -> float:\n",
    "        distances = np.zeros(len(dataset))\n",
    "        for i in range(len(dataset)):\n",
    "            distances[i] = distance_function(point, dataset[i])\n",
    "        smallest_k_distaces = np.sort(distances)[:k]\n",
    "        return np.mean(smallest_k_distaces, axis=0)\n",
    "\n",
    "    return _smallest_k_distances_mean"
   ]
  },
  {
   "cell_type": "markdown",
   "metadata": {},
   "source": [
    "### Best Performing LWRF"
   ]
  },
  {
   "cell_type": "code",
   "execution_count": 22,
   "metadata": {},
   "outputs": [],
   "source": [
    "\n",
    "# To find the best locally weighted random forrest model, we need to tune the hyperparameters. Will do \n",
    "# so by performing a grid search \n",
    "\n",
    "grid_search_parameters = {'max_depth':[10, 30, 50], \n",
    "                          'n_estimators':[50, 100, 250, 500], \n",
    "                          'max_samples': [0.3, 0.5, 0.75, 1], \n",
    "                          'distance_function': [euclidean_distance, cosine_similarity], \n",
    "                          'distance_agg_func': [mean_distance, distance_to_dataset_mean, nearest_k_distance_mean(k=1), nearest_k_distance_mean(k=5)], \n",
    "                          'temp': [0.15, 0.5, 1] }\n"
   ]
  },
  {
   "cell_type": "code",
   "execution_count": 24,
   "metadata": {},
   "outputs": [
    {
     "name": "stdout",
     "output_type": "stream",
     "text": [
      "Fitting 5 folds for each of 1152 candidates, totalling 5760 fits\n",
      "[CV 1/5] END distance_agg_func=<function mean_distance at 0x17a587250>, distance_function=<function euclidean_distance at 0x17a75c280>, max_depth=10, max_samples=0.3, n_estimators=50, temp=0.15;, score=0.951 total time=   0.3s\n",
      "[CV 2/5] END distance_agg_func=<function mean_distance at 0x17a587250>, distance_function=<function euclidean_distance at 0x17a75c280>, max_depth=10, max_samples=0.3, n_estimators=50, temp=0.15;, score=0.963 total time=   0.2s\n",
      "[CV 3/5] END distance_agg_func=<function mean_distance at 0x17a587250>, distance_function=<function euclidean_distance at 0x17a75c280>, max_depth=10, max_samples=0.3, n_estimators=50, temp=0.15;, score=0.957 total time=   0.2s\n",
      "[CV 4/5] END distance_agg_func=<function mean_distance at 0x17a587250>, distance_function=<function euclidean_distance at 0x17a75c280>, max_depth=10, max_samples=0.3, n_estimators=50, temp=0.15;, score=0.921 total time=   0.2s\n",
      "[CV 5/5] END distance_agg_func=<function mean_distance at 0x17a587250>, distance_function=<function euclidean_distance at 0x17a75c280>, max_depth=10, max_samples=0.3, n_estimators=50, temp=0.15;, score=0.927 total time=   0.2s\n",
      "[CV 1/5] END distance_agg_func=<function mean_distance at 0x17a587250>, distance_function=<function euclidean_distance at 0x17a75c280>, max_depth=10, max_samples=0.3, n_estimators=50, temp=0.5;, score=0.963 total time=   0.2s\n",
      "[CV 2/5] END distance_agg_func=<function mean_distance at 0x17a587250>, distance_function=<function euclidean_distance at 0x17a75c280>, max_depth=10, max_samples=0.3, n_estimators=50, temp=0.5;, score=0.957 total time=   0.2s\n",
      "[CV 3/5] END distance_agg_func=<function mean_distance at 0x17a587250>, distance_function=<function euclidean_distance at 0x17a75c280>, max_depth=10, max_samples=0.3, n_estimators=50, temp=0.5;, score=0.963 total time=   0.2s\n",
      "[CV 4/5] END distance_agg_func=<function mean_distance at 0x17a587250>, distance_function=<function euclidean_distance at 0x17a75c280>, max_depth=10, max_samples=0.3, n_estimators=50, temp=0.5;, score=0.915 total time=   0.2s\n",
      "[CV 5/5] END distance_agg_func=<function mean_distance at 0x17a587250>, distance_function=<function euclidean_distance at 0x17a75c280>, max_depth=10, max_samples=0.3, n_estimators=50, temp=0.5;, score=0.939 total time=   0.3s\n",
      "[CV 1/5] END distance_agg_func=<function mean_distance at 0x17a587250>, distance_function=<function euclidean_distance at 0x17a75c280>, max_depth=10, max_samples=0.3, n_estimators=50, temp=1;, score=0.951 total time=   0.2s\n",
      "[CV 2/5] END distance_agg_func=<function mean_distance at 0x17a587250>, distance_function=<function euclidean_distance at 0x17a75c280>, max_depth=10, max_samples=0.3, n_estimators=50, temp=1;, score=0.963 total time=   0.2s\n",
      "[CV 3/5] END distance_agg_func=<function mean_distance at 0x17a587250>, distance_function=<function euclidean_distance at 0x17a75c280>, max_depth=10, max_samples=0.3, n_estimators=50, temp=1;, score=0.970 total time=   0.2s\n",
      "[CV 4/5] END distance_agg_func=<function mean_distance at 0x17a587250>, distance_function=<function euclidean_distance at 0x17a75c280>, max_depth=10, max_samples=0.3, n_estimators=50, temp=1;, score=0.921 total time=   0.2s\n",
      "[CV 5/5] END distance_agg_func=<function mean_distance at 0x17a587250>, distance_function=<function euclidean_distance at 0x17a75c280>, max_depth=10, max_samples=0.3, n_estimators=50, temp=1;, score=0.927 total time=   0.2s\n",
      "[CV 1/5] END distance_agg_func=<function mean_distance at 0x17a587250>, distance_function=<function euclidean_distance at 0x17a75c280>, max_depth=10, max_samples=0.3, n_estimators=100, temp=0.15;, score=0.963 total time=   0.5s\n",
      "[CV 2/5] END distance_agg_func=<function mean_distance at 0x17a587250>, distance_function=<function euclidean_distance at 0x17a75c280>, max_depth=10, max_samples=0.3, n_estimators=100, temp=0.15;, score=0.951 total time=   0.5s\n",
      "[CV 3/5] END distance_agg_func=<function mean_distance at 0x17a587250>, distance_function=<function euclidean_distance at 0x17a75c280>, max_depth=10, max_samples=0.3, n_estimators=100, temp=0.15;, score=0.970 total time=   0.5s\n",
      "[CV 4/5] END distance_agg_func=<function mean_distance at 0x17a587250>, distance_function=<function euclidean_distance at 0x17a75c280>, max_depth=10, max_samples=0.3, n_estimators=100, temp=0.15;, score=0.921 total time=   0.4s\n",
      "[CV 5/5] END distance_agg_func=<function mean_distance at 0x17a587250>, distance_function=<function euclidean_distance at 0x17a75c280>, max_depth=10, max_samples=0.3, n_estimators=100, temp=0.15;, score=0.933 total time=   0.5s\n",
      "[CV 1/5] END distance_agg_func=<function mean_distance at 0x17a587250>, distance_function=<function euclidean_distance at 0x17a75c280>, max_depth=10, max_samples=0.3, n_estimators=100, temp=0.5;, score=0.957 total time=   0.5s\n",
      "[CV 2/5] END distance_agg_func=<function mean_distance at 0x17a587250>, distance_function=<function euclidean_distance at 0x17a75c280>, max_depth=10, max_samples=0.3, n_estimators=100, temp=0.5;, score=0.957 total time=   0.6s\n",
      "[CV 3/5] END distance_agg_func=<function mean_distance at 0x17a587250>, distance_function=<function euclidean_distance at 0x17a75c280>, max_depth=10, max_samples=0.3, n_estimators=100, temp=0.5;, score=0.982 total time=   0.5s\n",
      "[CV 4/5] END distance_agg_func=<function mean_distance at 0x17a587250>, distance_function=<function euclidean_distance at 0x17a75c280>, max_depth=10, max_samples=0.3, n_estimators=100, temp=0.5;, score=0.927 total time=   0.5s\n",
      "[CV 5/5] END distance_agg_func=<function mean_distance at 0x17a587250>, distance_function=<function euclidean_distance at 0x17a75c280>, max_depth=10, max_samples=0.3, n_estimators=100, temp=0.5;, score=0.933 total time=   0.5s\n",
      "[CV 1/5] END distance_agg_func=<function mean_distance at 0x17a587250>, distance_function=<function euclidean_distance at 0x17a75c280>, max_depth=10, max_samples=0.3, n_estimators=100, temp=1;, score=0.963 total time=   0.5s\n",
      "[CV 2/5] END distance_agg_func=<function mean_distance at 0x17a587250>, distance_function=<function euclidean_distance at 0x17a75c280>, max_depth=10, max_samples=0.3, n_estimators=100, temp=1;, score=0.957 total time=   0.5s\n",
      "[CV 3/5] END distance_agg_func=<function mean_distance at 0x17a587250>, distance_function=<function euclidean_distance at 0x17a75c280>, max_depth=10, max_samples=0.3, n_estimators=100, temp=1;, score=0.982 total time=   0.5s\n",
      "[CV 4/5] END distance_agg_func=<function mean_distance at 0x17a587250>, distance_function=<function euclidean_distance at 0x17a75c280>, max_depth=10, max_samples=0.3, n_estimators=100, temp=1;, score=0.939 total time=   0.5s\n",
      "[CV 5/5] END distance_agg_func=<function mean_distance at 0x17a587250>, distance_function=<function euclidean_distance at 0x17a75c280>, max_depth=10, max_samples=0.3, n_estimators=100, temp=1;, score=0.945 total time=   0.5s\n",
      "[CV 1/5] END distance_agg_func=<function mean_distance at 0x17a587250>, distance_function=<function euclidean_distance at 0x17a75c280>, max_depth=10, max_samples=0.3, n_estimators=250, temp=0.15;, score=0.957 total time=   1.2s\n",
      "[CV 2/5] END distance_agg_func=<function mean_distance at 0x17a587250>, distance_function=<function euclidean_distance at 0x17a75c280>, max_depth=10, max_samples=0.3, n_estimators=250, temp=0.15;, score=0.957 total time=   1.2s\n",
      "[CV 3/5] END distance_agg_func=<function mean_distance at 0x17a587250>, distance_function=<function euclidean_distance at 0x17a75c280>, max_depth=10, max_samples=0.3, n_estimators=250, temp=0.15;, score=0.963 total time=   1.1s\n",
      "[CV 4/5] END distance_agg_func=<function mean_distance at 0x17a587250>, distance_function=<function euclidean_distance at 0x17a75c280>, max_depth=10, max_samples=0.3, n_estimators=250, temp=0.15;, score=0.933 total time=   1.1s\n",
      "[CV 5/5] END distance_agg_func=<function mean_distance at 0x17a587250>, distance_function=<function euclidean_distance at 0x17a75c280>, max_depth=10, max_samples=0.3, n_estimators=250, temp=0.15;, score=0.963 total time=   1.1s\n",
      "[CV 1/5] END distance_agg_func=<function mean_distance at 0x17a587250>, distance_function=<function euclidean_distance at 0x17a75c280>, max_depth=10, max_samples=0.3, n_estimators=250, temp=0.5;, score=0.957 total time=   1.1s\n",
      "[CV 2/5] END distance_agg_func=<function mean_distance at 0x17a587250>, distance_function=<function euclidean_distance at 0x17a75c280>, max_depth=10, max_samples=0.3, n_estimators=250, temp=0.5;, score=0.945 total time=   1.1s\n",
      "[CV 3/5] END distance_agg_func=<function mean_distance at 0x17a587250>, distance_function=<function euclidean_distance at 0x17a75c280>, max_depth=10, max_samples=0.3, n_estimators=250, temp=0.5;, score=0.951 total time=   1.2s\n",
      "[CV 4/5] END distance_agg_func=<function mean_distance at 0x17a587250>, distance_function=<function euclidean_distance at 0x17a75c280>, max_depth=10, max_samples=0.3, n_estimators=250, temp=0.5;, score=0.933 total time=   1.2s\n",
      "[CV 5/5] END distance_agg_func=<function mean_distance at 0x17a587250>, distance_function=<function euclidean_distance at 0x17a75c280>, max_depth=10, max_samples=0.3, n_estimators=250, temp=0.5;, score=0.963 total time=   1.1s\n",
      "[CV 1/5] END distance_agg_func=<function mean_distance at 0x17a587250>, distance_function=<function euclidean_distance at 0x17a75c280>, max_depth=10, max_samples=0.3, n_estimators=250, temp=1;, score=0.963 total time=   1.1s\n",
      "[CV 2/5] END distance_agg_func=<function mean_distance at 0x17a587250>, distance_function=<function euclidean_distance at 0x17a75c280>, max_depth=10, max_samples=0.3, n_estimators=250, temp=1;, score=0.957 total time=   1.1s\n",
      "[CV 3/5] END distance_agg_func=<function mean_distance at 0x17a587250>, distance_function=<function euclidean_distance at 0x17a75c280>, max_depth=10, max_samples=0.3, n_estimators=250, temp=1;, score=0.976 total time=   1.2s\n",
      "[CV 4/5] END distance_agg_func=<function mean_distance at 0x17a587250>, distance_function=<function euclidean_distance at 0x17a75c280>, max_depth=10, max_samples=0.3, n_estimators=250, temp=1;, score=0.963 total time=   1.3s\n",
      "[CV 5/5] END distance_agg_func=<function mean_distance at 0x17a587250>, distance_function=<function euclidean_distance at 0x17a75c280>, max_depth=10, max_samples=0.3, n_estimators=250, temp=1;, score=0.963 total time=   1.2s\n",
      "[CV 1/5] END distance_agg_func=<function mean_distance at 0x17a587250>, distance_function=<function euclidean_distance at 0x17a75c280>, max_depth=10, max_samples=0.3, n_estimators=500, temp=0.15;, score=0.957 total time=   2.3s\n",
      "[CV 2/5] END distance_agg_func=<function mean_distance at 0x17a587250>, distance_function=<function euclidean_distance at 0x17a75c280>, max_depth=10, max_samples=0.3, n_estimators=500, temp=0.15;, score=0.945 total time=   2.3s\n",
      "[CV 3/5] END distance_agg_func=<function mean_distance at 0x17a587250>, distance_function=<function euclidean_distance at 0x17a75c280>, max_depth=10, max_samples=0.3, n_estimators=500, temp=0.15;, score=0.982 total time=   2.3s\n",
      "[CV 4/5] END distance_agg_func=<function mean_distance at 0x17a587250>, distance_function=<function euclidean_distance at 0x17a75c280>, max_depth=10, max_samples=0.3, n_estimators=500, temp=0.15;, score=0.921 total time=   2.3s\n",
      "[CV 5/5] END distance_agg_func=<function mean_distance at 0x17a587250>, distance_function=<function euclidean_distance at 0x17a75c280>, max_depth=10, max_samples=0.3, n_estimators=500, temp=0.15;, score=0.963 total time=   2.3s\n"
     ]
    }
   ],
   "source": [
    "lwrf_GS = GridSearchCV(LocallyWeightedRandomForest(), grid_search_parameters, cv=5, verbose=3)\n",
    "lwrf_GS.fit(train_X, train_y)\n"
   ]
  },
  {
   "cell_type": "code",
   "execution_count": 17,
   "metadata": {},
   "outputs": [
    {
     "name": "stdout",
     "output_type": "stream",
     "text": [
      "Best Parameters:  {'distance_agg_func': <function mean_distance at 0x177465c60>, 'distance_function': <function cosine_similarity at 0x177465b40>, 'max_depth': 15, 'max_samples': 0.75, 'n_estimators': 100, 'temp': 0.15}\n",
      "Best Score:  0.9841463414634146\n"
     ]
    }
   ],
   "source": [
    "print(\"Best Parameters: \", lwrf_GS.best_params_)\n",
    "print(\"Best Score: \", lwrf_GS.best_score_)"
   ]
  },
  {
   "cell_type": "code",
   "execution_count": 14,
   "metadata": {},
   "outputs": [
    {
     "data": {
      "text/plain": [
       "array([[1.]])"
      ]
     },
     "execution_count": 14,
     "metadata": {},
     "output_type": "execute_result"
    }
   ],
   "source": [
    "cosine_similarity([[1]],[[5]])"
   ]
  },
  {
   "cell_type": "code",
   "execution_count": 6,
   "metadata": {},
   "outputs": [
    {
     "name": "stdout",
     "output_type": "stream",
     "text": [
      "              precision    recall  f1-score   support\n",
      "\n",
      "           0    1.00000   0.97222   0.98592       108\n",
      "           1    0.97000   1.00000   0.98477        97\n",
      "\n",
      "    accuracy                        0.98537       205\n",
      "   macro avg    0.98500   0.98611   0.98534       205\n",
      "weighted avg    0.98580   0.98537   0.98537       205\n",
      "\n"
     ]
    }
   ],
   "source": [
    "# Train the model with the best parameters:\n",
    "lwrf = LocallyWeightedRandomForest(n_estimators=100, temp=0.15, distance_aggregation_function=mean_distance, distance_function=euclidean_distance, max_depth=50, max_samples=0.75)\n",
    "lwrf.fit(train_X, train_y)\n",
    "predictions = lwrf.predict(test_X)\n",
    "\n",
    "print(classification_report(test_y, predictions, digits=5))"
   ]
  },
  {
   "cell_type": "code",
   "execution_count": 7,
   "metadata": {},
   "outputs": [],
   "source": [
    "distances = lwrf.analyze_distances(test_X)"
   ]
  },
  {
   "cell_type": "code",
   "execution_count": 25,
   "metadata": {},
   "outputs": [
    {
     "data": {
      "image/png": "[encoded data removed]",
      "text/plain": [
       "<Figure size 1500x1000 with 2 Axes>"
      ]
     },
     "metadata": {},
     "output_type": "display_data"
    }
   ],
   "source": [
    "# plot an image of the distances\n",
    "fig, ax = plt.subplots(figsize=(15,10))\n",
    "vals = ax.imshow(distances)\n",
    "# plt.axis('off')\n",
    "cbar = plt.colorbar(vals, ax=ax)\n",
    "cbar.set_label('Euclidean Distance', rotation=270, labelpad=20)\n",
    "ax.set_xlabel('Decision Tree Index')\n",
    "ax.set_ylabel('Test Point Index')\n",
    "plt.savefig('distances.pdf', bbox_inches='tight')"
   ]
  },
  {
   "cell_type": "markdown",
   "metadata": {},
   "source": [
    "# Experiments"
   ]
  },
  {
   "cell_type": "markdown",
   "metadata": {},
   "source": [
    "### Comparing sample sizes vs performance \n",
    "\n",
    "For this graph, we will keep the number of estimators constant at 500. "
   ]
  },
  {
   "cell_type": "code",
   "execution_count": 22,
   "metadata": {},
   "outputs": [],
   "source": [
    "euc_mean_acc = []\n",
    "euc_median_acc = []\n",
    "euc_dataset_mean = []\n",
    "k_1_euc_mean_acc = []\n",
    "k_5_euc_mean_acc = []\n",
    "k_10_euc_mean_acc = []\n",
    "k_20_euc_mean_acc = []\n",
    "manhattan_mean_acc = []"
   ]
  },
  {
   "cell_type": "code",
   "execution_count": null,
   "metadata": {},
   "outputs": [],
   "source": [
    "# For the random forest, we will try various values for the portion of the population we \n",
    "# sample the data from \n",
    "sample_sizes = np.arange(0.1, 1.01, 0.1)\n",
    "\n",
    "for size in sample_sizes:\n",
    "    euc_mean_acc.append(cross_validation(X=train_X, \n",
    "                                         y=train_y, \n",
    "                                         model=LocallyWeightedRandomForest(n_estimators=500, \n",
    "                                                                           max_samples=size, \n",
    "                                                                           max_depth=10, \n",
    "                                                                           temp=1.0, \n",
    "                                                                           distance_agg_func=mean_distance, \n",
    "                                                                           distance_function=euclidean_distance) , \n",
    "                                         folds=5, \n",
    "                                         verbose=True))\n",
    "    euc_median_acc.append(cross_validation(X=train_X, y=train_y, model=lwrf, temperature=1.0, distance_agg_func=mean_distance, distance_function=euclidean_distance, folds=5, verbose=True))\n"
   ]
  },
  {
   "cell_type": "code",
   "execution_count": 51,
   "metadata": {},
   "outputs": [
    {
     "name": "stdout",
     "output_type": "stream",
     "text": [
      "Fold Accuracy:  0.9512195121951219\n",
      "Fold Accuracy:  0.9390243902439024\n",
      "Fold Accuracy:  0.9329268292682927\n",
      "Fold Accuracy:  0.8475609756097561\n",
      "Fold Accuracy:  0.9329268292682927\n",
      "Fold Accuracy:  0.9573170731707317\n",
      "Fold Accuracy:  0.8658536585365854\n",
      "Fold Accuracy:  0.8963414634146342\n",
      "Fold Accuracy:  0.8353658536585366\n",
      "Fold Accuracy:  0.9085365853658537\n",
      "Fold Accuracy:  0.9390243902439024\n",
      "Fold Accuracy:  0.8780487804878049\n",
      "Fold Accuracy:  0.9024390243902439\n",
      "Fold Accuracy:  0.823170731707317\n",
      "Fold Accuracy:  0.9390243902439024\n",
      "Fold Accuracy:  0.9634146341463414\n",
      "Fold Accuracy:  0.9512195121951219\n",
      "Fold Accuracy:  0.9817073170731707\n",
      "Fold Accuracy:  0.9146341463414634\n",
      "Fold Accuracy:  0.9695121951219512\n",
      "Fold Accuracy:  0.9573170731707317\n",
      "Fold Accuracy:  0.9512195121951219\n",
      "Fold Accuracy:  0.9634146341463414\n",
      "Fold Accuracy:  0.9329268292682927\n",
      "Fold Accuracy:  0.9634146341463414\n",
      "Fold Accuracy:  0.9512195121951219\n",
      "Fold Accuracy:  0.9451219512195121\n",
      "Fold Accuracy:  0.9573170731707317\n",
      "Fold Accuracy:  0.9329268292682927\n",
      "Fold Accuracy:  0.9634146341463414\n",
      "Fold Accuracy:  0.9634146341463414\n",
      "Fold Accuracy:  0.9695121951219512\n",
      "Fold Accuracy:  0.9939024390243902\n",
      "Fold Accuracy:  0.9512195121951219\n",
      "Fold Accuracy:  0.975609756097561\n",
      "Fold Accuracy:  0.9634146341463414\n",
      "Fold Accuracy:  0.9512195121951219\n",
      "Fold Accuracy:  0.9939024390243902\n",
      "Fold Accuracy:  0.9512195121951219\n",
      "Fold Accuracy:  0.975609756097561\n",
      "Fold Accuracy:  0.9634146341463414\n",
      "Fold Accuracy:  0.9573170731707317\n",
      "Fold Accuracy:  0.975609756097561\n",
      "Fold Accuracy:  0.9390243902439024\n",
      "Fold Accuracy:  0.975609756097561\n",
      "Fold Accuracy:  0.975609756097561\n",
      "Fold Accuracy:  0.9817073170731707\n",
      "Fold Accuracy:  0.9878048780487805\n",
      "Fold Accuracy:  0.9634146341463414\n",
      "Fold Accuracy:  0.975609756097561\n",
      "Fold Accuracy:  0.9634146341463414\n",
      "Fold Accuracy:  0.9573170731707317\n",
      "Fold Accuracy:  0.9939024390243902\n",
      "Fold Accuracy:  0.9390243902439024\n",
      "Fold Accuracy:  0.9939024390243902\n",
      "Fold Accuracy:  0.975609756097561\n",
      "Fold Accuracy:  0.9634146341463414\n",
      "Fold Accuracy:  0.9939024390243902\n",
      "Fold Accuracy:  0.9573170731707317\n",
      "Fold Accuracy:  0.975609756097561\n",
      "Fold Accuracy:  0.9878048780487805\n",
      "Fold Accuracy:  0.9817073170731707\n",
      "Fold Accuracy:  0.9939024390243902\n",
      "Fold Accuracy:  0.9634146341463414\n",
      "Fold Accuracy:  1.0\n",
      "Fold Accuracy:  0.975609756097561\n",
      "Fold Accuracy:  0.9817073170731707\n",
      "Fold Accuracy:  0.9939024390243902\n",
      "Fold Accuracy:  0.9451219512195121\n",
      "Fold Accuracy:  0.975609756097561\n",
      "Fold Accuracy:  0.9878048780487805\n",
      "Fold Accuracy:  0.9817073170731707\n",
      "Fold Accuracy:  0.9939024390243902\n",
      "Fold Accuracy:  0.9451219512195121\n",
      "Fold Accuracy:  0.975609756097561\n",
      "Fold Accuracy:  0.975609756097561\n",
      "Fold Accuracy:  0.9878048780487805\n",
      "Fold Accuracy:  0.9939024390243902\n",
      "Fold Accuracy:  0.9634146341463414\n",
      "Fold Accuracy:  1.0\n",
      "Fold Accuracy:  0.975609756097561\n",
      "Fold Accuracy:  0.9878048780487805\n",
      "Fold Accuracy:  0.9939024390243902\n",
      "Fold Accuracy:  0.9451219512195121\n",
      "Fold Accuracy:  1.0\n",
      "Fold Accuracy:  0.9878048780487805\n",
      "Fold Accuracy:  0.9878048780487805\n",
      "Fold Accuracy:  0.9939024390243902\n",
      "Fold Accuracy:  0.9634146341463414\n",
      "Fold Accuracy:  0.9878048780487805\n",
      "Fold Accuracy:  0.9878048780487805\n",
      "Fold Accuracy:  0.9878048780487805\n",
      "Fold Accuracy:  0.9878048780487805\n",
      "Fold Accuracy:  0.9451219512195121\n",
      "Fold Accuracy:  1.0\n",
      "Fold Accuracy:  0.9878048780487805\n",
      "Fold Accuracy:  0.9878048780487805\n",
      "Fold Accuracy:  0.9939024390243902\n",
      "Fold Accuracy:  0.9451219512195121\n",
      "Fold Accuracy:  1.0\n",
      "Fold Accuracy:  0.9878048780487805\n",
      "Fold Accuracy:  0.9878048780487805\n",
      "Fold Accuracy:  0.9939024390243902\n",
      "Fold Accuracy:  0.9451219512195121\n",
      "Fold Accuracy:  1.0\n",
      "Fold Accuracy:  0.9878048780487805\n",
      "Fold Accuracy:  0.9878048780487805\n",
      "Fold Accuracy:  0.9878048780487805\n",
      "Fold Accuracy:  0.9634146341463414\n",
      "Fold Accuracy:  1.0\n",
      "Fold Accuracy:  0.9878048780487805\n",
      "Fold Accuracy:  0.9878048780487805\n",
      "Fold Accuracy:  0.9939024390243902\n",
      "Fold Accuracy:  0.9634146341463414\n",
      "Fold Accuracy:  1.0\n",
      "Fold Accuracy:  0.9878048780487805\n",
      "Fold Accuracy:  0.9878048780487805\n",
      "Fold Accuracy:  0.9878048780487805\n",
      "Fold Accuracy:  0.9451219512195121\n",
      "Fold Accuracy:  1.0\n",
      "Fold Accuracy:  0.9878048780487805\n",
      "Fold Accuracy:  0.9878048780487805\n",
      "Fold Accuracy:  0.9878048780487805\n",
      "Fold Accuracy:  0.9512195121951219\n",
      "Fold Accuracy:  1.0\n",
      "Fold Accuracy:  0.9878048780487805\n",
      "Fold Accuracy:  0.9878048780487805\n",
      "Fold Accuracy:  0.9878048780487805\n",
      "Fold Accuracy:  0.9634146341463414\n",
      "Fold Accuracy:  0.9878048780487805\n",
      "Fold Accuracy:  0.9878048780487805\n",
      "Fold Accuracy:  0.9878048780487805\n",
      "Fold Accuracy:  0.9878048780487805\n",
      "Fold Accuracy:  0.9451219512195121\n",
      "Fold Accuracy:  1.0\n",
      "Fold Accuracy:  0.9878048780487805\n",
      "Fold Accuracy:  0.9878048780487805\n",
      "Fold Accuracy:  0.9878048780487805\n",
      "Fold Accuracy:  0.9451219512195121\n",
      "Fold Accuracy:  1.0\n",
      "Fold Accuracy:  0.9878048780487805\n",
      "Fold Accuracy:  0.9878048780487805\n",
      "Fold Accuracy:  0.9878048780487805\n",
      "Fold Accuracy:  0.9451219512195121\n",
      "Fold Accuracy:  1.0\n",
      "Fold Accuracy:  0.9878048780487805\n",
      "Fold Accuracy:  0.9878048780487805\n",
      "Fold Accuracy:  0.9939024390243902\n",
      "Fold Accuracy:  0.9451219512195121\n",
      "Fold Accuracy:  1.0\n"
     ]
    }
   ],
   "source": [
    "\n",
    "for size in sample_sizes:\n",
    "    lwrf = LocallyWeightedRandomForest(n_estimators=500, max_samples=size, max_depth=10)\n",
    "    k_5_euc_mean_acc.append(cross_validation(X=train_X, y=train_y, model=lwrf, temperature=1.0, distance_agg_func=nearest_k_distance_mean(k=5), distance_function=euclidean_distance, folds=5, verbose=True))\n",
    "    k_10_euc_mean_acc.append(cross_validation(X=train_X, y=train_y, model=lwrf, temperature=1.0, distance_agg_func=nearest_k_distance_mean(k=10), distance_function=euclidean_distance, folds=5, verbose=True))\n",
    "    k_20_euc_mean_acc.append(cross_validation(X=train_X, y=train_y, model=lwrf, temperature=1.0, distance_agg_func=nearest_k_distance_mean(k=20), distance_function=euclidean_distance, folds=5, verbose=True))\n"
   ]
  },
  {
   "cell_type": "code",
   "execution_count": 57,
   "metadata": {},
   "outputs": [
    {
     "name": "stdout",
     "output_type": "stream",
     "text": [
      "Fold Accuracy:  0.9634146341463414\n",
      "Fold Accuracy:  0.9512195121951219\n",
      "Fold Accuracy:  0.9939024390243902\n",
      "Fold Accuracy:  0.926829268292683\n",
      "Fold Accuracy:  0.975609756097561\n",
      "Fold Accuracy:  0.975609756097561\n",
      "Fold Accuracy:  0.9573170731707317\n",
      "Fold Accuracy:  0.9939024390243902\n",
      "Fold Accuracy:  0.9512195121951219\n",
      "Fold Accuracy:  0.9939024390243902\n",
      "Fold Accuracy:  0.975609756097561\n",
      "Fold Accuracy:  0.9878048780487805\n",
      "Fold Accuracy:  0.9939024390243902\n",
      "Fold Accuracy:  0.9634146341463414\n",
      "Fold Accuracy:  0.9939024390243902\n",
      "Fold Accuracy:  0.975609756097561\n",
      "Fold Accuracy:  0.9878048780487805\n",
      "Fold Accuracy:  0.9939024390243902\n",
      "Fold Accuracy:  0.9695121951219512\n",
      "Fold Accuracy:  1.0\n",
      "Fold Accuracy:  0.975609756097561\n",
      "Fold Accuracy:  0.9878048780487805\n",
      "Fold Accuracy:  0.9878048780487805\n",
      "Fold Accuracy:  0.9634146341463414\n",
      "Fold Accuracy:  1.0\n",
      "Fold Accuracy:  0.975609756097561\n",
      "Fold Accuracy:  0.9878048780487805\n",
      "Fold Accuracy:  0.9878048780487805\n",
      "Fold Accuracy:  0.9634146341463414\n",
      "Fold Accuracy:  0.9878048780487805\n",
      "Fold Accuracy:  0.9878048780487805\n",
      "Fold Accuracy:  0.9878048780487805\n",
      "Fold Accuracy:  0.9878048780487805\n",
      "Fold Accuracy:  0.9451219512195121\n",
      "Fold Accuracy:  1.0\n",
      "Fold Accuracy:  0.9878048780487805\n",
      "Fold Accuracy:  0.9878048780487805\n",
      "Fold Accuracy:  0.9878048780487805\n",
      "Fold Accuracy:  0.9634146341463414\n",
      "Fold Accuracy:  1.0\n",
      "Fold Accuracy:  0.9878048780487805\n",
      "Fold Accuracy:  0.9878048780487805\n",
      "Fold Accuracy:  0.9939024390243902\n",
      "Fold Accuracy:  0.9451219512195121\n",
      "Fold Accuracy:  1.0\n",
      "Fold Accuracy:  0.9878048780487805\n",
      "Fold Accuracy:  0.9878048780487805\n",
      "Fold Accuracy:  0.9878048780487805\n",
      "Fold Accuracy:  0.9451219512195121\n",
      "Fold Accuracy:  1.0\n"
     ]
    }
   ],
   "source": [
    "\n",
    "for size in sample_sizes:\n",
    "    lwrf = LocallyWeightedRandomForest(n_estimators=300, max_samples=size, max_depth=10)\n",
    "    k_1_euc_mean_acc.append(cross_validation(X=train_X, y=train_y, model=lwrf, temperature=1.0, distance_agg_func=nearest_k_distance_mean(k=1), distance_function=euclidean_distance, folds=5, verbose=True))\n"
   ]
  },
  {
   "cell_type": "code",
   "execution_count": 42,
   "metadata": {},
   "outputs": [],
   "source": [
    "from sklearn.model_selection import cross_val_score"
   ]
  },
  {
   "cell_type": "code",
   "execution_count": 48,
   "metadata": {},
   "outputs": [],
   "source": [
    "random_forest_acc = []\n",
    "for size in sample_sizes:\n",
    "    model = RandomForestClassifier(random_state=0, n_estimators=300, max_samples=size, max_depth=10)\n",
    "    random_forest_acc.append(np.mean(cross_val_score(model, train_X, train_y, cv=5)))"
   ]
  },
  {
   "cell_type": "code",
   "execution_count": 77,
   "metadata": {},
   "outputs": [
    {
     "name": "stdout",
     "output_type": "stream",
     "text": [
      "              precision    recall  f1-score   support\n",
      "\n",
      "           0    1.00000   0.97222   0.98592       108\n",
      "           1    0.97000   1.00000   0.98477        97\n",
      "\n",
      "    accuracy                        0.98537       205\n",
      "   macro avg    0.98500   0.98611   0.98534       205\n",
      "weighted avg    0.98580   0.98537   0.98537       205\n",
      "\n"
     ]
    }
   ],
   "source": [
    "my_test_model = LocallyWeightedRandomForest(n_estimators=300, max_depth=10, max_samples=0.8)\n",
    "my_test_model.fit(train_X, train_y)\n",
    "pred = my_test_model.predict(test_X,temperature=1, distance_aggregation_function=nearest_k_distance_mean(k=10), distance_function=euclidean_distance )\n",
    "print(classification_report(test_y, pred, digits=5))"
   ]
  },
  {
   "cell_type": "code",
   "execution_count": 58,
   "metadata": {},
   "outputs": [
    {
     "data": {
      "image/png": "[encoded data removed]",
      "text/plain": [
       "<Figure size 640x480 with 1 Axes>"
      ]
     },
     "metadata": {},
     "output_type": "display_data"
    }
   ],
   "source": [
    "plt.plot(sample_sizes, euc_mean_acc, label = \"Euclidean Mean\")\n",
    "plt.plot(sample_sizes, euc_median_acc, label = \"Euclidean Median\")\n",
    "plt.plot(sample_sizes, random_forest_acc, label = \"Random Forest\")\n",
    "plt.plot(sample_sizes, k_1_euc_mean_acc, label = \"k=1 Euclidean\")\n",
    "plt.plot(sample_sizes, k_5_euc_mean_acc, label = \"k=5 Euclidean\")\n",
    "plt.plot(sample_sizes, k_10_euc_mean_acc, label = \"k=10 Euclidean\")\n",
    "plt.plot(sample_sizes, k_20_euc_mean_acc, label = \"k=20 Euclidean\")\n",
    "plt.plot(sample_sizes, random_forest_acc, label = \"Random Forest\")\n",
    "plt.legend()\n",
    "plt.show()"
   ]
  },
  {
   "cell_type": "code",
   "execution_count": 74,
   "metadata": {},
   "outputs": [
    {
     "data": {
      "text/plain": [
       "0.9853658536585366"
      ]
     },
     "execution_count": 74,
     "metadata": {},
     "output_type": "execute_result"
    }
   ],
   "source": [
    "max(k_5_euc_mean_acc)"
   ]
  },
  {
   "cell_type": "code",
   "execution_count": 73,
   "metadata": {},
   "outputs": [
    {
     "data": {
      "text/plain": [
       "0.9853658536585366"
      ]
     },
     "execution_count": 73,
     "metadata": {},
     "output_type": "execute_result"
    }
   ],
   "source": [
    "max(k_1_euc_mean_acc)"
   ]
  },
  {
   "cell_type": "code",
   "execution_count": 91,
   "metadata": {},
   "outputs": [
    {
     "name": "stdout",
     "output_type": "stream",
     "text": [
      "Fold Accuracy: \n",
      "Temp:  0.15 , fold acc:  0.975609756097561\n",
      "Temp:  0.25 , fold acc:  0.975609756097561\n",
      "Temp:  0.35 , fold acc:  0.975609756097561\n",
      "Temp:  0.45 , fold acc:  0.975609756097561\n",
      "Temp:  0.55 , fold acc:  0.975609756097561\n",
      "Temp:  0.65 , fold acc:  0.975609756097561\n",
      "Temp:  0.75 , fold acc:  0.975609756097561\n",
      "Temp:  0.75 , fold acc:  0.975609756097561\n",
      "Temp:  0.85 , fold acc:  0.975609756097561\n",
      "Temp:  1 , fold acc:  0.975609756097561\n",
      "Temp:  2 , fold acc:  0.975609756097561\n",
      "Temp:  5 , fold acc:  0.9634146341463414\n",
      "Temp:  10 , fold acc:  0.9634146341463414\n",
      "Temp:  15 , fold acc:  0.9634146341463414\n",
      "Temp:  25 , fold acc:  0.9634146341463414\n",
      "Fold Accuracy: \n",
      "Temp:  0.15 , fold acc:  0.9878048780487805\n",
      "Temp:  0.25 , fold acc:  0.9878048780487805\n",
      "Temp:  0.35 , fold acc:  0.9878048780487805\n",
      "Temp:  0.45 , fold acc:  0.9878048780487805\n",
      "Temp:  0.55 , fold acc:  0.9878048780487805\n",
      "Temp:  0.65 , fold acc:  0.9878048780487805\n",
      "Temp:  0.75 , fold acc:  0.9878048780487805\n",
      "Temp:  0.75 , fold acc:  0.9878048780487805\n",
      "Temp:  0.85 , fold acc:  0.9878048780487805\n",
      "Temp:  1 , fold acc:  0.9878048780487805\n",
      "Temp:  2 , fold acc:  0.9817073170731707\n",
      "Temp:  5 , fold acc:  0.9817073170731707\n",
      "Temp:  10 , fold acc:  0.9634146341463414\n",
      "Temp:  15 , fold acc:  0.9634146341463414\n",
      "Temp:  25 , fold acc:  0.9634146341463414\n",
      "Fold Accuracy: \n",
      "Temp:  0.15 , fold acc:  0.9939024390243902\n",
      "Temp:  0.25 , fold acc:  0.9939024390243902\n",
      "Temp:  0.35 , fold acc:  0.9939024390243902\n",
      "Temp:  0.45 , fold acc:  0.9939024390243902\n",
      "Temp:  0.55 , fold acc:  0.9939024390243902\n",
      "Temp:  0.65 , fold acc:  0.9939024390243902\n",
      "Temp:  0.75 , fold acc:  0.9939024390243902\n",
      "Temp:  0.75 , fold acc:  0.9939024390243902\n",
      "Temp:  0.85 , fold acc:  0.9939024390243902\n",
      "Temp:  1 , fold acc:  0.9939024390243902\n",
      "Temp:  2 , fold acc:  0.9939024390243902\n",
      "Temp:  5 , fold acc:  0.9939024390243902\n",
      "Temp:  10 , fold acc:  0.9939024390243902\n",
      "Temp:  15 , fold acc:  0.9939024390243902\n",
      "Temp:  25 , fold acc:  0.9939024390243902\n",
      "Fold Accuracy: \n",
      "Temp:  0.15 , fold acc:  0.9634146341463414\n",
      "Temp:  0.25 , fold acc:  0.9634146341463414\n",
      "Temp:  0.35 , fold acc:  0.9634146341463414\n",
      "Temp:  0.45 , fold acc:  0.9634146341463414\n",
      "Temp:  0.55 , fold acc:  0.9634146341463414\n",
      "Temp:  0.65 , fold acc:  0.9634146341463414\n",
      "Temp:  0.75 , fold acc:  0.9634146341463414\n",
      "Temp:  0.75 , fold acc:  0.9634146341463414\n",
      "Temp:  0.85 , fold acc:  0.9634146341463414\n",
      "Temp:  1 , fold acc:  0.9634146341463414\n",
      "Temp:  2 , fold acc:  0.9634146341463414\n",
      "Temp:  5 , fold acc:  0.9512195121951219\n",
      "Temp:  10 , fold acc:  0.9512195121951219\n",
      "Temp:  15 , fold acc:  0.9512195121951219\n",
      "Temp:  25 , fold acc:  0.9512195121951219\n",
      "Fold Accuracy: \n",
      "Temp:  0.15 , fold acc:  1.0\n",
      "Temp:  0.25 , fold acc:  1.0\n",
      "Temp:  0.35 , fold acc:  1.0\n",
      "Temp:  0.45 , fold acc:  1.0\n",
      "Temp:  0.55 , fold acc:  1.0\n",
      "Temp:  0.65 , fold acc:  1.0\n",
      "Temp:  0.75 , fold acc:  1.0\n",
      "Temp:  0.75 , fold acc:  1.0\n",
      "Temp:  0.85 , fold acc:  1.0\n",
      "Temp:  1 , fold acc:  1.0\n",
      "Temp:  2 , fold acc:  0.9939024390243902\n",
      "Temp:  5 , fold acc:  0.975609756097561\n",
      "Temp:  10 , fold acc:  0.975609756097561\n",
      "Temp:  15 , fold acc:  0.975609756097561\n",
      "Temp:  25 , fold acc:  0.975609756097561\n"
     ]
    }
   ],
   "source": [
    "lwrf = LocallyWeightedRandomForest(n_estimators=300, max_samples=0.4, max_depth=10)\n",
    "k_1_temp_scores = cross_validation_temperature_range(X=train_X, y=train_y, model=lwrf, temperature_list=[0.15, 0.25, 0.35, 0.45, 0.55, 0.65, 0.75, 0.75,0.85, 1, 2, 5, 10, 15, 25], distance_agg_func=nearest_k_distance_mean(k=1), distance_function=euclidean_distance, folds=5, verbose=True)\n"
   ]
  },
  {
   "cell_type": "code",
   "execution_count": 93,
   "metadata": {},
   "outputs": [
    {
     "name": "stdout",
     "output_type": "stream",
     "text": [
      "Fold Accuracy: \n",
      "Temp:  0.15 , fold acc:  0.975609756097561\n",
      "Temp:  0.25 , fold acc:  0.9634146341463414\n",
      "Temp:  0.35 , fold acc:  0.9634146341463414\n",
      "Temp:  0.45 , fold acc:  0.9634146341463414\n",
      "Temp:  0.55 , fold acc:  0.9634146341463414\n",
      "Temp:  0.65 , fold acc:  0.9634146341463414\n",
      "Temp:  0.75 , fold acc:  0.9634146341463414\n",
      "Temp:  0.75 , fold acc:  0.9634146341463414\n",
      "Temp:  0.85 , fold acc:  0.9634146341463414\n",
      "Temp:  1 , fold acc:  0.9634146341463414\n",
      "Temp:  2 , fold acc:  0.9634146341463414\n",
      "Temp:  5 , fold acc:  0.9634146341463414\n",
      "Temp:  10 , fold acc:  0.9634146341463414\n",
      "Temp:  15 , fold acc:  0.9634146341463414\n",
      "Temp:  25 , fold acc:  0.9634146341463414\n",
      "Fold Accuracy: \n",
      "Temp:  0.15 , fold acc:  0.9878048780487805\n",
      "Temp:  0.25 , fold acc:  0.9695121951219512\n",
      "Temp:  0.35 , fold acc:  0.9695121951219512\n",
      "Temp:  0.45 , fold acc:  0.9695121951219512\n",
      "Temp:  0.55 , fold acc:  0.9695121951219512\n",
      "Temp:  0.65 , fold acc:  0.9573170731707317\n",
      "Temp:  0.75 , fold acc:  0.9573170731707317\n",
      "Temp:  0.75 , fold acc:  0.9573170731707317\n",
      "Temp:  0.85 , fold acc:  0.9573170731707317\n",
      "Temp:  1 , fold acc:  0.9573170731707317\n",
      "Temp:  2 , fold acc:  0.9573170731707317\n",
      "Temp:  5 , fold acc:  0.9573170731707317\n",
      "Temp:  10 , fold acc:  0.9573170731707317\n",
      "Temp:  15 , fold acc:  0.9573170731707317\n",
      "Temp:  25 , fold acc:  0.9573170731707317\n",
      "Fold Accuracy: \n",
      "Temp:  0.15 , fold acc:  0.9878048780487805\n",
      "Temp:  0.25 , fold acc:  0.9878048780487805\n",
      "Temp:  0.35 , fold acc:  0.9878048780487805\n",
      "Temp:  0.45 , fold acc:  0.9878048780487805\n",
      "Temp:  0.55 , fold acc:  0.9878048780487805\n",
      "Temp:  0.65 , fold acc:  0.9878048780487805\n",
      "Temp:  0.75 , fold acc:  0.9878048780487805\n",
      "Temp:  0.75 , fold acc:  0.9878048780487805\n",
      "Temp:  0.85 , fold acc:  0.9878048780487805\n",
      "Temp:  1 , fold acc:  0.9878048780487805\n",
      "Temp:  2 , fold acc:  0.9878048780487805\n",
      "Temp:  5 , fold acc:  0.9878048780487805\n",
      "Temp:  10 , fold acc:  0.9878048780487805\n",
      "Temp:  15 , fold acc:  0.9878048780487805\n",
      "Temp:  25 , fold acc:  0.9878048780487805\n",
      "Fold Accuracy: \n",
      "Temp:  0.15 , fold acc:  0.9390243902439024\n",
      "Temp:  0.25 , fold acc:  0.9451219512195121\n",
      "Temp:  0.35 , fold acc:  0.9451219512195121\n",
      "Temp:  0.45 , fold acc:  0.9451219512195121\n",
      "Temp:  0.55 , fold acc:  0.9451219512195121\n",
      "Temp:  0.65 , fold acc:  0.9451219512195121\n",
      "Temp:  0.75 , fold acc:  0.9451219512195121\n",
      "Temp:  0.75 , fold acc:  0.9451219512195121\n",
      "Temp:  0.85 , fold acc:  0.9451219512195121\n",
      "Temp:  1 , fold acc:  0.9451219512195121\n",
      "Temp:  2 , fold acc:  0.9451219512195121\n",
      "Temp:  5 , fold acc:  0.9451219512195121\n",
      "Temp:  10 , fold acc:  0.9451219512195121\n",
      "Temp:  15 , fold acc:  0.9451219512195121\n",
      "Temp:  25 , fold acc:  0.9451219512195121\n",
      "Fold Accuracy: \n",
      "Temp:  0.15 , fold acc:  1.0\n",
      "Temp:  0.25 , fold acc:  0.9939024390243902\n",
      "Temp:  0.35 , fold acc:  0.9939024390243902\n",
      "Temp:  0.45 , fold acc:  0.9939024390243902\n",
      "Temp:  0.55 , fold acc:  0.9939024390243902\n",
      "Temp:  0.65 , fold acc:  0.9939024390243902\n",
      "Temp:  0.75 , fold acc:  0.9939024390243902\n",
      "Temp:  0.75 , fold acc:  0.9939024390243902\n",
      "Temp:  0.85 , fold acc:  0.9939024390243902\n",
      "Temp:  1 , fold acc:  0.975609756097561\n",
      "Temp:  2 , fold acc:  0.975609756097561\n",
      "Temp:  5 , fold acc:  0.975609756097561\n",
      "Temp:  10 , fold acc:  0.975609756097561\n",
      "Temp:  15 , fold acc:  0.975609756097561\n",
      "Temp:  25 , fold acc:  0.975609756097561\n"
     ]
    }
   ],
   "source": [
    "euc_mean_temp_scores = cross_validation_temperature_range(X=train_X, y=train_y, model=lwrf, temperature_list=[0.15, 0.25, 0.35, 0.45, 0.55, 0.65, 0.75, 0.75,0.85, 1, 2, 5, 10, 15, 25], distance_agg_func=mean_distance, distance_function=euclidean_distance, folds=5, verbose=True)\n"
   ]
  },
  {
   "cell_type": "code",
   "execution_count": 96,
   "metadata": {},
   "outputs": [
    {
     "name": "stdout",
     "output_type": "stream",
     "text": [
      "Fold Accuracy: \n",
      "Temp:  0.15 , fold acc:  0.975609756097561\n",
      "Temp:  0.25 , fold acc:  0.975609756097561\n",
      "Temp:  0.35 , fold acc:  0.975609756097561\n",
      "Temp:  0.45 , fold acc:  0.975609756097561\n",
      "Temp:  0.55 , fold acc:  0.975609756097561\n",
      "Temp:  0.65 , fold acc:  0.975609756097561\n",
      "Temp:  0.75 , fold acc:  0.975609756097561\n",
      "Temp:  0.75 , fold acc:  0.975609756097561\n",
      "Temp:  0.85 , fold acc:  0.975609756097561\n",
      "Temp:  1 , fold acc:  0.975609756097561\n",
      "Temp:  2 , fold acc:  0.9634146341463414\n",
      "Temp:  5 , fold acc:  0.9634146341463414\n",
      "Temp:  10 , fold acc:  0.9634146341463414\n",
      "Temp:  15 , fold acc:  0.9634146341463414\n",
      "Temp:  25 , fold acc:  0.9634146341463414\n",
      "Fold Accuracy: \n",
      "Temp:  0.15 , fold acc:  0.975609756097561\n",
      "Temp:  0.25 , fold acc:  0.9817073170731707\n",
      "Temp:  0.35 , fold acc:  0.9817073170731707\n",
      "Temp:  0.45 , fold acc:  0.9878048780487805\n",
      "Temp:  0.55 , fold acc:  0.9878048780487805\n",
      "Temp:  0.65 , fold acc:  0.9878048780487805\n",
      "Temp:  0.75 , fold acc:  0.9878048780487805\n",
      "Temp:  0.75 , fold acc:  0.9878048780487805\n",
      "Temp:  0.85 , fold acc:  0.9878048780487805\n",
      "Temp:  1 , fold acc:  0.9817073170731707\n",
      "Temp:  2 , fold acc:  0.9817073170731707\n",
      "Temp:  5 , fold acc:  0.9817073170731707\n",
      "Temp:  10 , fold acc:  0.9817073170731707\n",
      "Temp:  15 , fold acc:  0.9817073170731707\n",
      "Temp:  25 , fold acc:  0.9817073170731707\n",
      "Fold Accuracy: \n",
      "Temp:  0.15 , fold acc:  0.9939024390243902\n",
      "Temp:  0.25 , fold acc:  0.9939024390243902\n",
      "Temp:  0.35 , fold acc:  0.9939024390243902\n",
      "Temp:  0.45 , fold acc:  0.9939024390243902\n",
      "Temp:  0.55 , fold acc:  0.9939024390243902\n",
      "Temp:  0.65 , fold acc:  0.9939024390243902\n",
      "Temp:  0.75 , fold acc:  0.9939024390243902\n",
      "Temp:  0.75 , fold acc:  0.9939024390243902\n",
      "Temp:  0.85 , fold acc:  0.9939024390243902\n",
      "Temp:  1 , fold acc:  0.9939024390243902\n",
      "Temp:  2 , fold acc:  0.9939024390243902\n",
      "Temp:  5 , fold acc:  0.9939024390243902\n",
      "Temp:  10 , fold acc:  0.9939024390243902\n",
      "Temp:  15 , fold acc:  0.9939024390243902\n",
      "Temp:  25 , fold acc:  0.9939024390243902\n",
      "Fold Accuracy: \n",
      "Temp:  0.15 , fold acc:  0.9634146341463414\n",
      "Temp:  0.25 , fold acc:  0.9634146341463414\n",
      "Temp:  0.35 , fold acc:  0.9634146341463414\n",
      "Temp:  0.45 , fold acc:  0.9634146341463414\n",
      "Temp:  0.55 , fold acc:  0.9634146341463414\n",
      "Temp:  0.65 , fold acc:  0.9634146341463414\n",
      "Temp:  0.75 , fold acc:  0.9634146341463414\n",
      "Temp:  0.75 , fold acc:  0.9634146341463414\n",
      "Temp:  0.85 , fold acc:  0.9634146341463414\n",
      "Temp:  1 , fold acc:  0.9634146341463414\n",
      "Temp:  2 , fold acc:  0.9512195121951219\n",
      "Temp:  5 , fold acc:  0.9512195121951219\n",
      "Temp:  10 , fold acc:  0.9512195121951219\n",
      "Temp:  15 , fold acc:  0.9512195121951219\n",
      "Temp:  25 , fold acc:  0.9512195121951219\n",
      "Fold Accuracy: \n",
      "Temp:  0.15 , fold acc:  0.9878048780487805\n",
      "Temp:  0.25 , fold acc:  1.0\n",
      "Temp:  0.35 , fold acc:  1.0\n",
      "Temp:  0.45 , fold acc:  1.0\n",
      "Temp:  0.55 , fold acc:  1.0\n",
      "Temp:  0.65 , fold acc:  1.0\n",
      "Temp:  0.75 , fold acc:  1.0\n",
      "Temp:  0.75 , fold acc:  1.0\n",
      "Temp:  0.85 , fold acc:  1.0\n",
      "Temp:  1 , fold acc:  0.9939024390243902\n",
      "Temp:  2 , fold acc:  0.975609756097561\n",
      "Temp:  5 , fold acc:  0.975609756097561\n",
      "Temp:  10 , fold acc:  0.975609756097561\n",
      "Temp:  15 , fold acc:  0.975609756097561\n",
      "Temp:  25 , fold acc:  0.975609756097561\n"
     ]
    }
   ],
   "source": [
    "k_3_temp_scores = cross_validation_temperature_range(X=train_X, y=train_y, model=lwrf, temperature_list=[0.15, 0.25, 0.35, 0.45, 0.55, 0.65, 0.75, 0.75,0.85, 1, 2, 5, 10, 15, 25], distance_agg_func=nearest_k_distance_mean(k=3), distance_function=euclidean_distance, folds=5, verbose=True)\n"
   ]
  },
  {
   "cell_type": "code",
   "execution_count": 98,
   "metadata": {},
   "outputs": [
    {
     "name": "stdout",
     "output_type": "stream",
     "text": [
      "Fold Accuracy: \n",
      "Temp:  0.15 , fold acc:  0.975609756097561\n",
      "Temp:  0.25 , fold acc:  0.975609756097561\n",
      "Temp:  0.35 , fold acc:  0.975609756097561\n",
      "Temp:  0.45 , fold acc:  0.975609756097561\n",
      "Temp:  0.55 , fold acc:  0.975609756097561\n",
      "Temp:  0.65 , fold acc:  0.975609756097561\n",
      "Temp:  0.75 , fold acc:  0.975609756097561\n",
      "Temp:  0.75 , fold acc:  0.975609756097561\n",
      "Temp:  0.85 , fold acc:  0.975609756097561\n",
      "Temp:  1 , fold acc:  0.975609756097561\n",
      "Temp:  2 , fold acc:  0.9634146341463414\n",
      "Temp:  5 , fold acc:  0.9634146341463414\n",
      "Temp:  10 , fold acc:  0.9634146341463414\n",
      "Temp:  15 , fold acc:  0.9634146341463414\n",
      "Temp:  25 , fold acc:  0.9634146341463414\n",
      "Fold Accuracy: \n",
      "Temp:  0.15 , fold acc:  0.9878048780487805\n",
      "Temp:  0.25 , fold acc:  0.9878048780487805\n",
      "Temp:  0.35 , fold acc:  0.9878048780487805\n",
      "Temp:  0.45 , fold acc:  0.9878048780487805\n",
      "Temp:  0.55 , fold acc:  0.9878048780487805\n",
      "Temp:  0.65 , fold acc:  0.9878048780487805\n",
      "Temp:  0.75 , fold acc:  0.9817073170731707\n",
      "Temp:  0.75 , fold acc:  0.9817073170731707\n",
      "Temp:  0.85 , fold acc:  0.9817073170731707\n",
      "Temp:  1 , fold acc:  0.9817073170731707\n",
      "Temp:  2 , fold acc:  0.9695121951219512\n",
      "Temp:  5 , fold acc:  0.9695121951219512\n",
      "Temp:  10 , fold acc:  0.9695121951219512\n",
      "Temp:  15 , fold acc:  0.9695121951219512\n",
      "Temp:  25 , fold acc:  0.9695121951219512\n",
      "Fold Accuracy: \n",
      "Temp:  0.15 , fold acc:  0.9878048780487805\n",
      "Temp:  0.25 , fold acc:  0.9878048780487805\n",
      "Temp:  0.35 , fold acc:  0.9878048780487805\n",
      "Temp:  0.45 , fold acc:  0.9878048780487805\n",
      "Temp:  0.55 , fold acc:  0.9878048780487805\n",
      "Temp:  0.65 , fold acc:  0.9878048780487805\n",
      "Temp:  0.75 , fold acc:  0.9878048780487805\n",
      "Temp:  0.75 , fold acc:  0.9878048780487805\n",
      "Temp:  0.85 , fold acc:  0.9878048780487805\n",
      "Temp:  1 , fold acc:  0.9878048780487805\n",
      "Temp:  2 , fold acc:  0.9878048780487805\n",
      "Temp:  5 , fold acc:  0.9878048780487805\n",
      "Temp:  10 , fold acc:  0.9878048780487805\n",
      "Temp:  15 , fold acc:  0.9878048780487805\n",
      "Temp:  25 , fold acc:  0.9878048780487805\n",
      "Fold Accuracy: \n",
      "Temp:  0.15 , fold acc:  0.9695121951219512\n",
      "Temp:  0.25 , fold acc:  0.9634146341463414\n",
      "Temp:  0.35 , fold acc:  0.9634146341463414\n",
      "Temp:  0.45 , fold acc:  0.9634146341463414\n",
      "Temp:  0.55 , fold acc:  0.9634146341463414\n",
      "Temp:  0.65 , fold acc:  0.9634146341463414\n",
      "Temp:  0.75 , fold acc:  0.9634146341463414\n",
      "Temp:  0.75 , fold acc:  0.9634146341463414\n",
      "Temp:  0.85 , fold acc:  0.9634146341463414\n",
      "Temp:  1 , fold acc:  0.9634146341463414\n",
      "Temp:  2 , fold acc:  0.9512195121951219\n",
      "Temp:  5 , fold acc:  0.9512195121951219\n",
      "Temp:  10 , fold acc:  0.9512195121951219\n",
      "Temp:  15 , fold acc:  0.9512195121951219\n",
      "Temp:  25 , fold acc:  0.9512195121951219\n",
      "Fold Accuracy: \n",
      "Temp:  0.15 , fold acc:  1.0\n",
      "Temp:  0.25 , fold acc:  1.0\n",
      "Temp:  0.35 , fold acc:  1.0\n",
      "Temp:  0.45 , fold acc:  1.0\n",
      "Temp:  0.55 , fold acc:  1.0\n",
      "Temp:  0.65 , fold acc:  1.0\n",
      "Temp:  0.75 , fold acc:  1.0\n",
      "Temp:  0.75 , fold acc:  1.0\n",
      "Temp:  0.85 , fold acc:  0.9939024390243902\n",
      "Temp:  1 , fold acc:  0.9939024390243902\n",
      "Temp:  2 , fold acc:  0.9939024390243902\n",
      "Temp:  5 , fold acc:  0.975609756097561\n",
      "Temp:  10 , fold acc:  0.975609756097561\n",
      "Temp:  15 , fold acc:  0.975609756097561\n",
      "Temp:  25 , fold acc:  0.975609756097561\n"
     ]
    }
   ],
   "source": [
    "k_5_temp_scores = cross_validation_temperature_range(X=train_X, y=train_y, model=lwrf, temperature_list=[0.15, 0.25, 0.35, 0.45, 0.55, 0.65, 0.75, 0.75,0.85, 1, 2, 5, 10, 15, 25], distance_agg_func=nearest_k_distance_mean(k=5), distance_function=euclidean_distance, folds=5, verbose=True)\n"
   ]
  },
  {
   "cell_type": "code",
   "execution_count": 99,
   "metadata": {},
   "outputs": [
    {
     "name": "stdout",
     "output_type": "stream",
     "text": [
      "Fold Accuracy: \n",
      "Temp:  0.15 , fold acc:  0.9817073170731707\n",
      "Temp:  0.25 , fold acc:  0.975609756097561\n",
      "Temp:  0.35 , fold acc:  0.975609756097561\n",
      "Temp:  0.45 , fold acc:  0.975609756097561\n",
      "Temp:  0.55 , fold acc:  0.975609756097561\n",
      "Temp:  0.65 , fold acc:  0.975609756097561\n",
      "Temp:  0.75 , fold acc:  0.975609756097561\n",
      "Temp:  0.75 , fold acc:  0.975609756097561\n",
      "Temp:  0.85 , fold acc:  0.975609756097561\n",
      "Temp:  1 , fold acc:  0.975609756097561\n",
      "Temp:  2 , fold acc:  0.975609756097561\n",
      "Temp:  5 , fold acc:  0.975609756097561\n",
      "Temp:  10 , fold acc:  0.975609756097561\n",
      "Temp:  15 , fold acc:  0.975609756097561\n",
      "Temp:  25 , fold acc:  0.975609756097561\n",
      "Fold Accuracy: \n",
      "Temp:  0.15 , fold acc:  0.975609756097561\n",
      "Temp:  0.25 , fold acc:  0.9817073170731707\n",
      "Temp:  0.35 , fold acc:  0.9817073170731707\n",
      "Temp:  0.45 , fold acc:  0.9817073170731707\n",
      "Temp:  0.55 , fold acc:  0.9817073170731707\n",
      "Temp:  0.65 , fold acc:  0.9817073170731707\n",
      "Temp:  0.75 , fold acc:  0.9817073170731707\n",
      "Temp:  0.75 , fold acc:  0.9817073170731707\n",
      "Temp:  0.85 , fold acc:  0.9817073170731707\n",
      "Temp:  1 , fold acc:  0.9817073170731707\n",
      "Temp:  2 , fold acc:  0.9817073170731707\n",
      "Temp:  5 , fold acc:  0.9817073170731707\n",
      "Temp:  10 , fold acc:  0.9817073170731707\n",
      "Temp:  15 , fold acc:  0.9817073170731707\n",
      "Temp:  25 , fold acc:  0.9817073170731707\n",
      "Fold Accuracy: \n",
      "Temp:  0.15 , fold acc:  0.9939024390243902\n",
      "Temp:  0.25 , fold acc:  0.9939024390243902\n",
      "Temp:  0.35 , fold acc:  0.9939024390243902\n",
      "Temp:  0.45 , fold acc:  0.9939024390243902\n",
      "Temp:  0.55 , fold acc:  0.9939024390243902\n",
      "Temp:  0.65 , fold acc:  0.9939024390243902\n",
      "Temp:  0.75 , fold acc:  0.9939024390243902\n",
      "Temp:  0.75 , fold acc:  0.9939024390243902\n",
      "Temp:  0.85 , fold acc:  0.9939024390243902\n",
      "Temp:  1 , fold acc:  0.9939024390243902\n",
      "Temp:  2 , fold acc:  0.9939024390243902\n",
      "Temp:  5 , fold acc:  0.9939024390243902\n",
      "Temp:  10 , fold acc:  0.9939024390243902\n",
      "Temp:  15 , fold acc:  0.9939024390243902\n",
      "Temp:  25 , fold acc:  0.9939024390243902\n",
      "Fold Accuracy: \n",
      "Temp:  0.15 , fold acc:  0.9512195121951219\n",
      "Temp:  0.25 , fold acc:  0.9207317073170732\n",
      "Temp:  0.35 , fold acc:  0.9207317073170732\n",
      "Temp:  0.45 , fold acc:  0.9207317073170732\n",
      "Temp:  0.55 , fold acc:  0.9207317073170732\n",
      "Temp:  0.65 , fold acc:  0.9207317073170732\n",
      "Temp:  0.75 , fold acc:  0.9207317073170732\n",
      "Temp:  0.75 , fold acc:  0.9207317073170732\n",
      "Temp:  0.85 , fold acc:  0.9207317073170732\n",
      "Temp:  1 , fold acc:  0.9207317073170732\n",
      "Temp:  2 , fold acc:  0.9207317073170732\n",
      "Temp:  5 , fold acc:  0.9207317073170732\n",
      "Temp:  10 , fold acc:  0.9207317073170732\n",
      "Temp:  15 , fold acc:  0.9207317073170732\n",
      "Temp:  25 , fold acc:  0.9207317073170732\n",
      "Fold Accuracy: \n",
      "Temp:  0.15 , fold acc:  0.9939024390243902\n",
      "Temp:  0.25 , fold acc:  0.975609756097561\n",
      "Temp:  0.35 , fold acc:  0.975609756097561\n",
      "Temp:  0.45 , fold acc:  0.975609756097561\n",
      "Temp:  0.55 , fold acc:  0.975609756097561\n",
      "Temp:  0.65 , fold acc:  0.975609756097561\n",
      "Temp:  0.75 , fold acc:  0.975609756097561\n",
      "Temp:  0.75 , fold acc:  0.975609756097561\n",
      "Temp:  0.85 , fold acc:  0.975609756097561\n",
      "Temp:  1 , fold acc:  0.975609756097561\n",
      "Temp:  2 , fold acc:  0.975609756097561\n",
      "Temp:  5 , fold acc:  0.975609756097561\n",
      "Temp:  10 , fold acc:  0.975609756097561\n",
      "Temp:  15 , fold acc:  0.975609756097561\n",
      "Temp:  25 , fold acc:  0.975609756097561\n"
     ]
    }
   ],
   "source": [
    "dataset_mean_temp_scores = cross_validation_temperature_range(X=train_X, y=train_y, model=lwrf, temperature_list=[0.15, 0.25, 0.35, 0.45, 0.55, 0.65, 0.75, 0.75,0.85, 1, 2, 5, 10, 15, 25], distance_agg_func=distance_to_dataset_mean, distance_function=euclidean_distance, folds=5, verbose=True)\n"
   ]
  },
  {
   "cell_type": "code",
   "execution_count": 69,
   "metadata": {},
   "outputs": [
    {
     "data": {
      "text/plain": [
       "array([0.98292683, 0.98292683, 0.98292683, 0.98292683, 0.97804878,\n",
       "       0.97195122, 0.9695122 , 0.9695122 , 0.9695122 ])"
      ]
     },
     "execution_count": 69,
     "metadata": {},
     "output_type": "execute_result"
    }
   ],
   "source": [
    "k_1_temp_scores"
   ]
  },
  {
   "cell_type": "code",
   "execution_count": 102,
   "metadata": {},
   "outputs": [
    {
     "data": {
      "image/png": "[encoded data removed]",
      "text/plain": [
       "<Figure size 640x480 with 1 Axes>"
      ]
     },
     "metadata": {},
     "output_type": "display_data"
    }
   ],
   "source": [
    "temperature_list=[0.15, 0.25, 0.35, 0.45, 0.55, 0.65, 0.75, 0.75,0.85, 1, 2, 5, 10, 15, 25]\n",
    "\n",
    "\n",
    "# Baseline with random forest\n",
    "model = RandomForestClassifier(random_state=1, n_estimators=300, max_samples=0.4, max_depth=10)\n",
    "random_forest_cross_eval = np.mean(cross_val_score(model, train_X, train_y, cv=5))\n",
    "\n",
    "\n",
    "plt.plot(temperature_list, k_1_temp_scores, label = \"k=1 Euclidean\")\n",
    "plt.plot(temperature_list, k_3_temp_scores, label = \"k=3 Euclidean\")\n",
    "plt.plot(temperature_list, k_5_temp_scores, label = \"k=5 Euclidean\")\n",
    "\n",
    "plt.plot(temperature_list, euc_mean_temp_scores, label = \" Euclidean Mean\"  )\n",
    "plt.plot(temperature_list, dataset_mean_temp_scores, label = \" dataset euc Mean\"  )\n",
    "\n",
    "plt.axhline(y = random_forest_cross_eval, color = 'r', linestyle = '--', label = \"Random Forest\") \n",
    "plt.legend()\n",
    "plt.show()"
   ]
  },
  {
   "cell_type": "code",
   "execution_count": 55,
   "metadata": {},
   "outputs": [
    {
     "data": {
      "text/plain": [
       "0.9865853658536586"
      ]
     },
     "execution_count": 55,
     "metadata": {},
     "output_type": "execute_result"
    }
   ],
   "source": [
    "max(k_10_euc_mean_acc)"
   ]
  },
  {
   "cell_type": "code",
   "execution_count": 15,
   "metadata": {},
   "outputs": [
    {
     "name": "stdout",
     "output_type": "stream",
     "text": [
      "Fold Accuracy:  0.9878048780487805\n",
      "Fold Accuracy:  0.9878048780487805\n",
      "Fold Accuracy:  0.9878048780487805\n",
      "Fold Accuracy:  0.9451219512195121\n",
      "Fold Accuracy:  1.0\n"
     ]
    },
    {
     "data": {
      "text/plain": [
       "0.9817073170731707"
      ]
     },
     "execution_count": 15,
     "metadata": {},
     "output_type": "execute_result"
    }
   ],
   "source": [
    "cross_validation(X=train_X, y=train_y, model=lwrf, temperature=1.0, distance_agg_func=mean_distance, distance_function=euclidean_distance, folds=5, verbose=True)"
   ]
  },
  {
   "cell_type": "code",
   "execution_count": 16,
   "metadata": {},
   "outputs": [
    {
     "name": "stdout",
     "output_type": "stream",
     "text": [
      "Fold Accuracy:  0.975609756097561\n",
      "Fold Accuracy:  0.9878048780487805\n",
      "Fold Accuracy:  0.9878048780487805\n",
      "Fold Accuracy:  0.9634146341463414\n",
      "Fold Accuracy:  1.0\n"
     ]
    },
    {
     "data": {
      "text/plain": [
       "0.9829268292682926"
      ]
     },
     "execution_count": 16,
     "metadata": {},
     "output_type": "execute_result"
    }
   ],
   "source": [
    "cross_validation(X=train_X, y=train_y, model=lwrf, temperature=2.0, distance_agg_func=mean_distance, distance_function=euclidean_distance, folds=5, verbose=True)"
   ]
  },
  {
   "cell_type": "code",
   "execution_count": 33,
   "metadata": {},
   "outputs": [
    {
     "name": "stdout",
     "output_type": "stream",
     "text": [
      "Fold Accuracy:  0.9878048780487805\n",
      "Fold Accuracy:  0.9878048780487805\n",
      "Fold Accuracy:  0.9939024390243902\n",
      "Fold Accuracy:  0.9451219512195121\n",
      "Fold Accuracy:  1.0\n"
     ]
    },
    {
     "data": {
      "text/plain": [
       "0.9829268292682928"
      ]
     },
     "execution_count": 33,
     "metadata": {},
     "output_type": "execute_result"
    }
   ],
   "source": [
    "cross_validation(X=train_X, y=train_y, model=lwrf, temperature=2.0, distance_agg_func=nearest_k_distance_mean(k=10), distance_function=euclidean_distance, folds=5, verbose=True)"
   ]
  },
  {
   "cell_type": "code",
   "execution_count": 34,
   "metadata": {},
   "outputs": [
    {
     "name": "stdout",
     "output_type": "stream",
     "text": [
      "Fold Accuracy:  0.9878048780487805\n",
      "Fold Accuracy:  0.9817073170731707\n",
      "Fold Accuracy:  0.9878048780487805\n",
      "Fold Accuracy:  0.9634146341463414\n",
      "Fold Accuracy:  0.9878048780487805\n"
     ]
    },
    {
     "data": {
      "text/plain": [
       "0.9817073170731707"
      ]
     },
     "execution_count": 34,
     "metadata": {},
     "output_type": "execute_result"
    }
   ],
   "source": [
    "cross_validation(X=train_X, y=train_y, model=lwrf, temperature=2.0, distance_agg_func=nearest_k_distance_mean(k=1), distance_function=euclidean_distance, folds=5, verbose=True)"
   ]
  },
  {
   "cell_type": "code",
   "execution_count": null,
   "metadata": {},
   "outputs": [],
   "source": []
  }
 ],
 "metadata": {
  "kernelspec": {
   "display_name": "Python 3.9.13 ('CSC2515')",
   "language": "python",
   "name": "python3"
  },
  "language_info": {
   "codemirror_mode": {
    "name": "ipython",
    "version": 3
   },
   "file_extension": ".py",
   "mimetype": "text/x-python",
   "name": "python",
   "nbconvert_exporter": "python",
   "pygments_lexer": "ipython3",
   "version": "3.9.13"
  },
  "orig_nbformat": 4,
  "vscode": {
   "interpreter": {
    "hash": "6d72f0bf83a3d946b6895dd2f7acb78ff6dbb3ccd9c0630de58d025bf03c51db"
   }
  }
 },
 "nbformat": 4,
 "nbformat_minor": 2
}
